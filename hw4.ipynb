{
 "cells": [
  {
   "attachments": {},
   "cell_type": "markdown",
   "metadata": {},
   "source": [
    "Author: Kareem Hamoudeh"
   ]
  },
  {
   "attachments": {},
   "cell_type": "markdown",
   "metadata": {},
   "source": [
    "1. Look at the [chapter on interactive graphics](https://smart-stats.github.io/ds4bio_book/book/_build/html/interactive.html) and, specifically, the code to display a subject's MRICloud data as a sunburst plot. Do the following. Display this subject's data as a [Sankey diagram](https://plotly.com/python/sankey-diagram/). Display as many levels as you can (at least 3) for Type = 1, starting from the intracranial volume. Put this in a file called hw4.ipynb."
   ]
  },
  {
   "cell_type": "code",
   "execution_count": 12,
   "metadata": {},
   "outputs": [],
   "source": [
    "import pandas as pd\n",
    "import plotly.express as px\n",
    "import numpy as np"
   ]
  },
  {
   "cell_type": "code",
   "execution_count": 13,
   "metadata": {},
   "outputs": [],
   "source": [
    "dat = pd.read_csv(\"assetts/kirby21.csv\").drop(['Unnamed: 0'], axis = 1)\n",
    "dat = dat.assign(id_char = dat.id.astype(str))\n",
    "icv = dat.groupby(['id']).volume.sum().reset_index().rename(columns = {'volume' : 'icv'})\n",
    "dat = pd.merge(dat, icv, on = 'id')\n",
    "dat = dat.assign(comp = dat.volume / dat.icv)\n",
    "## load in the hierarchy information\n",
    "url = \"https://raw.githubusercontent.com/bcaffo/MRIcloudT1volumetrics/master/inst/extdata/multilevel_lookup_table.txt\"\n",
    "multilevel_lookup = pd.read_csv(url, sep = \"\\t\").drop(['Level5'], axis = 1)\n",
    "multilevel_lookup = multilevel_lookup.rename(columns = {\n",
    "    \"modify\"   : \"roi\", \n",
    "    \"modify.1\" : \"level4\",\n",
    "    \"modify.2\" : \"level3\", \n",
    "    \"modify.3\" : \"level2\",\n",
    "    \"modify.4\" : \"level1\"})\n",
    "multilevel_lookup = multilevel_lookup[['roi', 'level4', 'level3', 'level2', 'level1']]\n",
    "## Now load in the subject data\n",
    "id = 127\n",
    "subjectData = pd.read_csv(\"assetts/kirby21AllLevels.csv\")\n",
    "subjectData = subjectData.loc[(subjectData.type == 1) & (subjectData.level == 5) & (subjectData.id == id)]\n",
    "subjectData = subjectData[['roi', 'volume']]\n",
    "## Merge the subject data with the multilevel data\n",
    "subjectData = pd.merge(subjectData, multilevel_lookup, on = \"roi\")\n",
    "subjectData = subjectData.assign(icv = \"ICV\")\n",
    "subjectData = subjectData.assign(comp = subjectData.volume / np.sum(subjectData.volume))"
   ]
  },
  {
   "attachments": {},
   "cell_type": "markdown",
   "metadata": {},
   "source": [
    "## Sankey Plot \n",
    "\n",
    "1) Make tables for connections. ICV-> 1, 1->2, 2>3 etc...\n",
    "2) Label list\n",
    "3) for loop for each pair  (ICV - CSF/Diencephelon... | Level1 - CSF/Die...)\n",
    "4) populate source/target/value with numbers corresponding to the indices of list of labels\n",
    "\n",
    "\n",
    "labels = brain structures \n",
    "\n",
    "value = composition\n",
    "\n",
    "source = for level0-1: ICV| level1-2: level1 | Level2-3: level2| level3-4\n",
    "\n",
    "target = \n"
   ]
  },
  {
   "cell_type": "code",
   "execution_count": 14,
   "metadata": {},
   "outputs": [],
   "source": [
    "# Grouping level 0 (icv) and level 1\n",
    "icv_one = subjectData.groupby(['icv', 'level1']).sum().reset_index().drop('volume', axis = 1)\n",
    "one_two = subjectData.groupby(['level1', 'level2']).sum().reset_index().drop('volume', axis = 1)\n",
    "two_three = subjectData.groupby(['level2', 'level3']).sum().reset_index().drop('volume', axis = 1)\n",
    "three_four = subjectData.groupby(['level3', 'level4']).sum().reset_index().drop('volume', axis = 1)"
   ]
  },
  {
   "cell_type": "markdown",
   "metadata": {},
   "source": []
  },
  {
   "cell_type": "code",
   "execution_count": 15,
   "metadata": {},
   "outputs": [],
   "source": [
    "import plotly.graph_objects as go\n",
    "\n",
    "\n",
    "labels = ['ICV']\n",
    "for i in icv_one['level1']:\n",
    "    labels.append(i)\n",
    "for i in one_two['level2']:\n",
    "    labels.append(i)\n",
    "for i in two_three['level3']:\n",
    "    labels.append(i)\n",
    "for i in three_four['level4']:\n",
    "    labels.append(i)\n",
    "\n",
    "\n",
    "value = []\n",
    "\n",
    "for i in icv_one['comp']:\n",
    "    value.append(i)\n",
    "for i in one_two['comp']:\n",
    "    value.append(i)\n",
    "for i in two_three['comp']:\n",
    "    value.append(i)\n",
    "for i in three_four['comp']:\n",
    "    value.append(i)\n",
    "\n",
    "\n"
   ]
  },
  {
   "attachments": {},
   "cell_type": "markdown",
   "metadata": {},
   "source": [
    "## Sankey of level0(icv) to level1"
   ]
  },
  {
   "cell_type": "code",
   "execution_count": 16,
   "metadata": {},
   "outputs": [],
   "source": [
    "# Trying to make a for loop to append source and target lists \n",
    "index_list = []\n",
    "for i in range(226):\n",
    "    index_list.append(i)\n",
    "sourcetest = []\n",
    "for i in icv_one['icv']:\n",
    "    level1_index = labels.index(i)\n",
    "    sourcetest.append(index_list[level1_index])\n",
    "\n",
    "for i in one_two['level1']:\n",
    "    level1_index = labels.index(i)\n",
    "    sourcetest.append(index_list[level1_index])\n",
    "\n",
    "# for i in two_three['level2']:\n",
    "#     level1_index = labels.index(i)\n",
    "#     sourcetest.append(index_list[level1_index])\n",
    "\n",
    "# for i in three_four['level3']:\n",
    "#     level1_index = labels.index(i)\n",
    "#     sourcetest.append(index_list[level1_index])\n",
    "\n",
    "targettest = []\n",
    "for i in icv_one['level1']:\n",
    "    level2_index = labels.index(i)\n",
    "    targettest.append(index_list[level2_index])\n",
    "\n",
    "for i in one_two['level2']:\n",
    "    level2_index = labels.index(i)\n",
    "    targettest.append(index_list[level2_index])\n",
    "\n",
    "# for i in two_three['level3']:\n",
    "#     level2_index = labels.index(i)\n",
    "#     targettest.append(index_list[level2_index])\n",
    "\n",
    "# for i in three_four['level4']:\n",
    "#     level2_index = labels.index(i)\n",
    "#     targettest.append(index_list[level2_index])\n",
    "\n",
    "\n"
   ]
  },
  {
   "attachments": {},
   "cell_type": "markdown",
   "metadata": {},
   "source": [
    "### Displaying for 3 levels \n",
    "\n",
    "**ICV -> level1 -> level2"
   ]
  },
  {
   "cell_type": "code",
   "execution_count": 17,
   "metadata": {},
   "outputs": [
    {
     "data": {
      "application/vnd.plotly.v1+json": {
       "config": {
        "plotlyServerURL": "https://plot.ly"
       },
       "data": [
        {
         "link": {
          "source": [
           0,
           0,
           0,
           0,
           0,
           0,
           0,
           0,
           1,
           1,
           1,
           1,
           2,
           2,
           3,
           3,
           4,
           4,
           5,
           5,
           6,
           6,
           7,
           7,
           7,
           8,
           8,
           8
          ],
          "target": [
           1,
           2,
           3,
           4,
           5,
           6,
           7,
           8,
           9,
           10,
           11,
           12,
           13,
           14,
           15,
           16,
           17,
           18,
           19,
           20,
           21,
           22,
           23,
           24,
           25,
           26,
           27,
           28
          ],
          "value": [
           0.07941664532724545,
           0.008548065780393485,
           0.00836215963623159,
           0.007429735434579121,
           0.11531316866533857,
           0.003598766798464719,
           0.38422025754872985,
           0.39311120080901724,
           0.02457650291011836,
           0.021714126986193755,
           0.032536468709174794,
           0.0005895467217585419,
           0.003960451903838058,
           0.004587613876555427,
           0.0037528446533537617,
           0.0046093149828778275,
           0.0035770656921423187,
           0.0038526697424368025,
           0.057506485013939346,
           0.05780668365139922,
           0.0017382586164242653,
           0.0018605081820404538,
           0.20036052771303614,
           0.00895604657925461,
           0.17490368325643907,
           0.20462262499475556,
           0.009459512245934297,
           0.17902906356832737,
           0.003960451903838058,
           0.0037528446533537617,
           0.07137493869437464,
           0.00523792369601669,
           0.020830891958872066,
           0.026949880571578207,
           0.030147900273289265,
           0.04581899251890528,
           0.07132864300088686,
           0.005122907832507968,
           0.023571741687391224,
           0.025343275333509836,
           0.034545991154629065,
           0.044710065985830626,
           0.007521603451343949,
           0.0014344431279106609,
           0.007760315620890352,
           0.0016991966250439448,
           0.0035770656921423187,
           0.0038526697424368025,
           0.052086272024814494,
           0.005420212989124852,
           0.051994404008049666,
           0.005812279643349551,
           0.0017382586164242653,
           0.0018605081820404538,
           0.001561756285002076,
           0.0008485132572058524,
           0.010853446642043145,
           0.0013989979875840737,
           0.006321532271715212,
           0.0027683377965275337,
           0.0008239186700404654,
           0.001265897868806685,
           0.001026462329049535,
           0.008124894207106678,
           0.001485802412873675,
           0.007036945410143676,
           0.002115857866434031,
           0.0006582668917794762,
           0.004587613876555427,
           0.0046093149828778275,
           0.0017491091695854655,
           0.0019530995690160283,
           0.015109756962076594,
           0.013724503008496706,
           0.0003211763735715247,
           0.00026837034818701723,
           0.06294695236896511,
           0.00877520402656794,
           0.041867944427806926,
           0.010363001639156898,
           0.050950580793942206,
           0.06637717390832584,
           0.009524615564901499,
           0.04145200655662759,
           0.00991378873828321,
           0.051761478800189234,
           0.0006047374961842221,
           0.043227880424010684,
           0.0191143344487702,
           0.0006271619727173691,
           0.045563642834511704,
           0.020186369101096772,
           0.003960451903838058,
           0.0037528446533537617,
           0.0005150395900516342,
           0.0025824316523656377,
           0.00026258338650104383,
           0.0009895704483014545,
           0.0031719783741241793,
           0.0005656755048039016,
           0.002693107294609879,
           0.0002495627227076036,
           0.0010691411714835888,
           0.0031828289272853795,
           0.001561756285002076,
           0.001265897868806685,
           0.009092763549085732,
           0.04299350847572876,
           0.00967435319852606,
           0.042320050809523606,
           0.0008485132572058524,
           0.001026462329049535,
           0.00298028526827631,
           0.001869188624569414,
           0.003925730133722217,
           0.0032457621356203406,
           0.001987821339131869,
           0.004291032090149289,
           0.010853446642043145,
           0.008124894207106678,
           0.009462405726777284,
           0.018979787589571317,
           0.006882144185043886,
           0.010666817127670501,
           0.004560125808547053,
           0.020823658256764598,
           0.008397604776558175,
           0.01996501781660829,
           0.006679600526034817,
           0.012675616202914025,
           0.004491405638526119,
           0.019119398040245424,
           0.0017491091695854655,
           0.0019530995690160283,
           0.0016955797739902113,
           0.002451501644220489,
           0.00028356112261269744,
           0.023597059644767358,
           0.013840242242216175,
           0.0018286798927676,
           0.0023849515848317947,
           0.00028356112261269744,
           0.023830708222838535,
           0.013124105733576965,
           0.00523792369601669,
           0.005122907832507968,
           0.011227429040999177,
           0.0006032907557627288,
           0.0036002135388862127,
           0.010282707545764016,
           0.0006575435215687295,
           0.0030526222893509777,
           0.002267765610690833,
           0.0013100234516622324,
           0.001030802550314015,
           0.0006532033003042496,
           0.005101206726185568,
           0.002577368060890411,
           0.001247813613538018,
           0.0010402063630537218,
           0.0007204767299036905,
           0.0043279239708973695,
           0.0014344431279106609,
           0.01637999505214776,
           0.0028739498472965487,
           0.0015769470594277563,
           0.0016991966250439448,
           0.01918160787836964,
           0.00273433939662244,
           0.001655794412399144,
           0.0017382586164242653,
           0.0018605081820404538,
           0.004367709332488437,
           0.0031032582041032454,
           0.005836150860304192,
           0.011785147473484865,
           0.0018576147011974671,
           0.004947128871296526,
           0.0032370816930913805,
           0.00527264546613253,
           0.010245815665015937,
           0.0016406036379734638,
           0.0013989979875840737,
           0.001485802412873675,
           0.006321532271715212,
           0.007036945410143676,
           0.005374640665847812,
           0.007738614514567953,
           0.005323281380884798,
           0.006239791437900838,
           0.005471572274087866,
           0.009823367461939876,
           0.008085832215726358,
           0.0047554357654486555,
           0.006869846891461194,
           0.00501150882005298,
           0.005420212989124852,
           0.005812279643349551,
           0.0005678456154361416,
           0.02300895966343031,
           0.024190946587790377,
           0.0031828289272853795,
           0.0004701906369853402,
           0.022240740499617336,
           0.02632199522865009,
           0.0027285524349364666,
           0.00114943526487647,
           0.0004629569348778734,
           0.0011559455967731901,
           0.0008499599976273457,
           0.00020833062069504303,
           0.001057567248111642,
           0.0008239186700404654,
           0.0006582668917794762,
           0.010150330797197375,
           0.009081189625713786,
           0.013696291570277585,
           0.012891180525716535,
           0.009775625028030597,
           0.00892349491977101,
           0.013961768437621615,
           0.012049177600407402,
           0.004587613876555427,
           0.0046093149828778275,
           0.0035770656921423187,
           0.0038526697424368025
          ]
         },
         "node": {
          "label": [
           "ICV",
           "CSF",
           "Diencephalon_L",
           "Diencephalon_R",
           "Mesencephalon",
           "Metencephalon",
           "Myelencephalon",
           "Telencephalon_L",
           "Telencephalon_R",
           "Sulcus_L",
           "Sulcus_R",
           "Ventricle",
           "Ventricle ",
           "BasalForebrain_L",
           "Thalamus_L",
           "BasalForebrain_R",
           "Thalamus_R",
           "Mesencephalon_L",
           "Mesencephalon_R",
           "Metencephalon_L",
           "Metencephalon_R",
           "Myelencephalon_L",
           "Myelencephalon_R",
           "CerebralCortex_L",
           "CerebralNucli_L",
           "WhiteMatter_L",
           "CerebralCortex_R",
           "CerebralNucli_R",
           "WhiteMatter_R",
           "BasalForebrain_L",
           "BasalForebrain_R",
           "Frontal_L",
           "Insula_L",
           "Limbic_L",
           "Occipital_L",
           "Parietal_L",
           "Temporal_L",
           "Frontal_R",
           "Insula_R",
           "Limbic_R",
           "Occipital_R",
           "Parietal_R",
           "Temporal_R",
           "BasalGang_L",
           "Limbic_L",
           "BasalGang_R",
           "Limbic_R",
           "midbrain_L",
           "midbrain_R",
           "Cerebellum_L",
           "Pons_L",
           "Cerebellum_R",
           "Pons_R",
           "Medulla_L",
           "Medulla_R",
           "CentralSul_L",
           "CinguSul_L",
           "FrontSul_L",
           "OcciptSul_L",
           "ParietSul_L",
           "SylvianFissureExt_L",
           "TempSul_L",
           "CentralSul_R",
           "CinguSul_R",
           "FrontSul_R",
           "OcciptSul_R",
           "ParietSul_R",
           "SylvianFissureExt_R",
           "TempSul_R",
           "Thalamus_L",
           "Thalamus_R",
           "III_ventricle",
           "IV_ventricle",
           "LateralVentricle_L",
           "LateralVentricle_R",
           "LateralVentricle_L",
           "LateralVentricle_R",
           "AnteriorWM_L",
           "CorpusCallosum_L",
           "InferiorWM_L",
           "LimbicWM_L",
           "PosteriorWM_L",
           "AnteriorWM_R",
           "CorpusCallosum_R",
           "InferiorWM_R",
           "LimbicWM_R",
           "PosteriorWM_R",
           "PVA_anterior_L",
           "PeripheralFrontalWM_L",
           "ant_DPWM_L",
           "PVA_anterior_R",
           "PeripheralFrontalWM_R",
           "ant_DPWM_R",
           "BasalForebrain_L",
           "BasalForebrain_R",
           "BasalForebrain_L",
           "Caud_L",
           "Caudate_tail_L",
           "GP_L",
           "Put_L",
           "BasalForebrain_R",
           "Caud_R",
           "Caudate_tail_R",
           "GP_R",
           "Put_R",
           "CentralSul_L",
           "CentralSul_R",
           "CerebellumWM_L",
           "Cerebellum_L",
           "CerebellumWM_R",
           "Cerebellum_R",
           "CinguSul_L",
           "CinguSul_R",
           "BCC_L",
           "GCC_L",
           "SCC_L",
           "BCC_R",
           "GCC_R",
           "SCC_R",
           "FrontSul_L",
           "FrontSul_R",
           "IFG_L",
           "MFG_L",
           "OG_L",
           "PrCG_L",
           "RG_L",
           "SFG_L",
           "IFG_R",
           "MFG_R",
           "OG_R",
           "PrCG_R",
           "RG_R",
           "SFG_R",
           "III_ventricle",
           "IV_ventricle",
           "ALIC_L",
           "PLIC_L",
           "PVA_posterior_L",
           "PeripheralTemporalWM_L",
           "inf_DPWM_L",
           "ALIC_R",
           "PLIC_R",
           "PVA_posterior_R",
           "PeripheralTemporalWM_R",
           "inf_DPWM_R",
           "Insula_L",
           "Insula_R",
           "AnteriorLateralVentricle_L",
           "InferiorLateralVentricle_L",
           "PosteriorLateralVentricle_L",
           "AnteriorLateralVentricle_R",
           "InferiorLateralVentricle_R",
           "PosteriorLateralVentricle_R",
           "CGC_L",
           "CGH_L",
           "Fx/ST_L",
           "Fx_L",
           "PeripheralCingulateWM_L",
           "CGC_R",
           "CGH_R",
           "Fx/ST_R",
           "Fx_R",
           "PeripheralCingulateWM_R",
           "Amyg_L",
           "Cingulate_L",
           "Hippo_L",
           "Limbic_L",
           "Amyg_R",
           "Cingulate_R",
           "Hippo_R",
           "Limbic_R",
           "Medulla_L",
           "Medulla_R",
           "Cu_L",
           "IOG_L",
           "LG_L",
           "MOG_L",
           "SOG_L",
           "Cu_R",
           "IOG_R",
           "LG_R",
           "MOG_R",
           "SOG_R",
           "OcciptSul_L",
           "OcciptSul_R",
           "ParietSul_L",
           "ParietSul_R",
           "AG_L",
           "PoCG_L",
           "PrCu_L",
           "SMG_L",
           "SPG_L",
           "AG_R",
           "PoCG_R",
           "PrCu_R",
           "SMG_R",
           "SPG_R",
           "Pons_L",
           "Pons_R",
           "PVA_posterior_L",
           "PeripheralOccipitalWM_L",
           "PeripheralParietalWM_L",
           "post_DPWM_L",
           "PVA_posterior_R",
           "PeripheralOccipitalWM_R",
           "PeripheralParietalWM_R",
           "post_DPWM_R",
           "SylFrontSul_L",
           "SylParieSul_L",
           "SylTempSul_L",
           "SylFrontSul_R",
           "SylParieSul_R",
           "SylTempSul_R",
           "TempSul_L",
           "TempSul_R",
           "FuG_L",
           "ITG_L",
           "MTG_L",
           "STG_L",
           "FuG_R",
           "ITG_R",
           "MTG_R",
           "STG_R",
           "Thalamus_L",
           "Thalamus_R",
           "midbrain_L",
           "midbrain_R"
          ],
          "pad": 15,
          "thickness": 5
         },
         "type": "sankey"
        }
       ],
       "layout": {
        "template": {
         "data": {
          "bar": [
           {
            "error_x": {
             "color": "#2a3f5f"
            },
            "error_y": {
             "color": "#2a3f5f"
            },
            "marker": {
             "line": {
              "color": "#E5ECF6",
              "width": 0.5
             },
             "pattern": {
              "fillmode": "overlay",
              "size": 10,
              "solidity": 0.2
             }
            },
            "type": "bar"
           }
          ],
          "barpolar": [
           {
            "marker": {
             "line": {
              "color": "#E5ECF6",
              "width": 0.5
             },
             "pattern": {
              "fillmode": "overlay",
              "size": 10,
              "solidity": 0.2
             }
            },
            "type": "barpolar"
           }
          ],
          "carpet": [
           {
            "aaxis": {
             "endlinecolor": "#2a3f5f",
             "gridcolor": "white",
             "linecolor": "white",
             "minorgridcolor": "white",
             "startlinecolor": "#2a3f5f"
            },
            "baxis": {
             "endlinecolor": "#2a3f5f",
             "gridcolor": "white",
             "linecolor": "white",
             "minorgridcolor": "white",
             "startlinecolor": "#2a3f5f"
            },
            "type": "carpet"
           }
          ],
          "choropleth": [
           {
            "colorbar": {
             "outlinewidth": 0,
             "ticks": ""
            },
            "type": "choropleth"
           }
          ],
          "contour": [
           {
            "colorbar": {
             "outlinewidth": 0,
             "ticks": ""
            },
            "colorscale": [
             [
              0,
              "#0d0887"
             ],
             [
              0.1111111111111111,
              "#46039f"
             ],
             [
              0.2222222222222222,
              "#7201a8"
             ],
             [
              0.3333333333333333,
              "#9c179e"
             ],
             [
              0.4444444444444444,
              "#bd3786"
             ],
             [
              0.5555555555555556,
              "#d8576b"
             ],
             [
              0.6666666666666666,
              "#ed7953"
             ],
             [
              0.7777777777777778,
              "#fb9f3a"
             ],
             [
              0.8888888888888888,
              "#fdca26"
             ],
             [
              1,
              "#f0f921"
             ]
            ],
            "type": "contour"
           }
          ],
          "contourcarpet": [
           {
            "colorbar": {
             "outlinewidth": 0,
             "ticks": ""
            },
            "type": "contourcarpet"
           }
          ],
          "heatmap": [
           {
            "colorbar": {
             "outlinewidth": 0,
             "ticks": ""
            },
            "colorscale": [
             [
              0,
              "#0d0887"
             ],
             [
              0.1111111111111111,
              "#46039f"
             ],
             [
              0.2222222222222222,
              "#7201a8"
             ],
             [
              0.3333333333333333,
              "#9c179e"
             ],
             [
              0.4444444444444444,
              "#bd3786"
             ],
             [
              0.5555555555555556,
              "#d8576b"
             ],
             [
              0.6666666666666666,
              "#ed7953"
             ],
             [
              0.7777777777777778,
              "#fb9f3a"
             ],
             [
              0.8888888888888888,
              "#fdca26"
             ],
             [
              1,
              "#f0f921"
             ]
            ],
            "type": "heatmap"
           }
          ],
          "heatmapgl": [
           {
            "colorbar": {
             "outlinewidth": 0,
             "ticks": ""
            },
            "colorscale": [
             [
              0,
              "#0d0887"
             ],
             [
              0.1111111111111111,
              "#46039f"
             ],
             [
              0.2222222222222222,
              "#7201a8"
             ],
             [
              0.3333333333333333,
              "#9c179e"
             ],
             [
              0.4444444444444444,
              "#bd3786"
             ],
             [
              0.5555555555555556,
              "#d8576b"
             ],
             [
              0.6666666666666666,
              "#ed7953"
             ],
             [
              0.7777777777777778,
              "#fb9f3a"
             ],
             [
              0.8888888888888888,
              "#fdca26"
             ],
             [
              1,
              "#f0f921"
             ]
            ],
            "type": "heatmapgl"
           }
          ],
          "histogram": [
           {
            "marker": {
             "pattern": {
              "fillmode": "overlay",
              "size": 10,
              "solidity": 0.2
             }
            },
            "type": "histogram"
           }
          ],
          "histogram2d": [
           {
            "colorbar": {
             "outlinewidth": 0,
             "ticks": ""
            },
            "colorscale": [
             [
              0,
              "#0d0887"
             ],
             [
              0.1111111111111111,
              "#46039f"
             ],
             [
              0.2222222222222222,
              "#7201a8"
             ],
             [
              0.3333333333333333,
              "#9c179e"
             ],
             [
              0.4444444444444444,
              "#bd3786"
             ],
             [
              0.5555555555555556,
              "#d8576b"
             ],
             [
              0.6666666666666666,
              "#ed7953"
             ],
             [
              0.7777777777777778,
              "#fb9f3a"
             ],
             [
              0.8888888888888888,
              "#fdca26"
             ],
             [
              1,
              "#f0f921"
             ]
            ],
            "type": "histogram2d"
           }
          ],
          "histogram2dcontour": [
           {
            "colorbar": {
             "outlinewidth": 0,
             "ticks": ""
            },
            "colorscale": [
             [
              0,
              "#0d0887"
             ],
             [
              0.1111111111111111,
              "#46039f"
             ],
             [
              0.2222222222222222,
              "#7201a8"
             ],
             [
              0.3333333333333333,
              "#9c179e"
             ],
             [
              0.4444444444444444,
              "#bd3786"
             ],
             [
              0.5555555555555556,
              "#d8576b"
             ],
             [
              0.6666666666666666,
              "#ed7953"
             ],
             [
              0.7777777777777778,
              "#fb9f3a"
             ],
             [
              0.8888888888888888,
              "#fdca26"
             ],
             [
              1,
              "#f0f921"
             ]
            ],
            "type": "histogram2dcontour"
           }
          ],
          "mesh3d": [
           {
            "colorbar": {
             "outlinewidth": 0,
             "ticks": ""
            },
            "type": "mesh3d"
           }
          ],
          "parcoords": [
           {
            "line": {
             "colorbar": {
              "outlinewidth": 0,
              "ticks": ""
             }
            },
            "type": "parcoords"
           }
          ],
          "pie": [
           {
            "automargin": true,
            "type": "pie"
           }
          ],
          "scatter": [
           {
            "fillpattern": {
             "fillmode": "overlay",
             "size": 10,
             "solidity": 0.2
            },
            "type": "scatter"
           }
          ],
          "scatter3d": [
           {
            "line": {
             "colorbar": {
              "outlinewidth": 0,
              "ticks": ""
             }
            },
            "marker": {
             "colorbar": {
              "outlinewidth": 0,
              "ticks": ""
             }
            },
            "type": "scatter3d"
           }
          ],
          "scattercarpet": [
           {
            "marker": {
             "colorbar": {
              "outlinewidth": 0,
              "ticks": ""
             }
            },
            "type": "scattercarpet"
           }
          ],
          "scattergeo": [
           {
            "marker": {
             "colorbar": {
              "outlinewidth": 0,
              "ticks": ""
             }
            },
            "type": "scattergeo"
           }
          ],
          "scattergl": [
           {
            "marker": {
             "colorbar": {
              "outlinewidth": 0,
              "ticks": ""
             }
            },
            "type": "scattergl"
           }
          ],
          "scattermapbox": [
           {
            "marker": {
             "colorbar": {
              "outlinewidth": 0,
              "ticks": ""
             }
            },
            "type": "scattermapbox"
           }
          ],
          "scatterpolar": [
           {
            "marker": {
             "colorbar": {
              "outlinewidth": 0,
              "ticks": ""
             }
            },
            "type": "scatterpolar"
           }
          ],
          "scatterpolargl": [
           {
            "marker": {
             "colorbar": {
              "outlinewidth": 0,
              "ticks": ""
             }
            },
            "type": "scatterpolargl"
           }
          ],
          "scatterternary": [
           {
            "marker": {
             "colorbar": {
              "outlinewidth": 0,
              "ticks": ""
             }
            },
            "type": "scatterternary"
           }
          ],
          "surface": [
           {
            "colorbar": {
             "outlinewidth": 0,
             "ticks": ""
            },
            "colorscale": [
             [
              0,
              "#0d0887"
             ],
             [
              0.1111111111111111,
              "#46039f"
             ],
             [
              0.2222222222222222,
              "#7201a8"
             ],
             [
              0.3333333333333333,
              "#9c179e"
             ],
             [
              0.4444444444444444,
              "#bd3786"
             ],
             [
              0.5555555555555556,
              "#d8576b"
             ],
             [
              0.6666666666666666,
              "#ed7953"
             ],
             [
              0.7777777777777778,
              "#fb9f3a"
             ],
             [
              0.8888888888888888,
              "#fdca26"
             ],
             [
              1,
              "#f0f921"
             ]
            ],
            "type": "surface"
           }
          ],
          "table": [
           {
            "cells": {
             "fill": {
              "color": "#EBF0F8"
             },
             "line": {
              "color": "white"
             }
            },
            "header": {
             "fill": {
              "color": "#C8D4E3"
             },
             "line": {
              "color": "white"
             }
            },
            "type": "table"
           }
          ]
         },
         "layout": {
          "annotationdefaults": {
           "arrowcolor": "#2a3f5f",
           "arrowhead": 0,
           "arrowwidth": 1
          },
          "autotypenumbers": "strict",
          "coloraxis": {
           "colorbar": {
            "outlinewidth": 0,
            "ticks": ""
           }
          },
          "colorscale": {
           "diverging": [
            [
             0,
             "#8e0152"
            ],
            [
             0.1,
             "#c51b7d"
            ],
            [
             0.2,
             "#de77ae"
            ],
            [
             0.3,
             "#f1b6da"
            ],
            [
             0.4,
             "#fde0ef"
            ],
            [
             0.5,
             "#f7f7f7"
            ],
            [
             0.6,
             "#e6f5d0"
            ],
            [
             0.7,
             "#b8e186"
            ],
            [
             0.8,
             "#7fbc41"
            ],
            [
             0.9,
             "#4d9221"
            ],
            [
             1,
             "#276419"
            ]
           ],
           "sequential": [
            [
             0,
             "#0d0887"
            ],
            [
             0.1111111111111111,
             "#46039f"
            ],
            [
             0.2222222222222222,
             "#7201a8"
            ],
            [
             0.3333333333333333,
             "#9c179e"
            ],
            [
             0.4444444444444444,
             "#bd3786"
            ],
            [
             0.5555555555555556,
             "#d8576b"
            ],
            [
             0.6666666666666666,
             "#ed7953"
            ],
            [
             0.7777777777777778,
             "#fb9f3a"
            ],
            [
             0.8888888888888888,
             "#fdca26"
            ],
            [
             1,
             "#f0f921"
            ]
           ],
           "sequentialminus": [
            [
             0,
             "#0d0887"
            ],
            [
             0.1111111111111111,
             "#46039f"
            ],
            [
             0.2222222222222222,
             "#7201a8"
            ],
            [
             0.3333333333333333,
             "#9c179e"
            ],
            [
             0.4444444444444444,
             "#bd3786"
            ],
            [
             0.5555555555555556,
             "#d8576b"
            ],
            [
             0.6666666666666666,
             "#ed7953"
            ],
            [
             0.7777777777777778,
             "#fb9f3a"
            ],
            [
             0.8888888888888888,
             "#fdca26"
            ],
            [
             1,
             "#f0f921"
            ]
           ]
          },
          "colorway": [
           "#636efa",
           "#EF553B",
           "#00cc96",
           "#ab63fa",
           "#FFA15A",
           "#19d3f3",
           "#FF6692",
           "#B6E880",
           "#FF97FF",
           "#FECB52"
          ],
          "font": {
           "color": "#2a3f5f"
          },
          "geo": {
           "bgcolor": "white",
           "lakecolor": "white",
           "landcolor": "#E5ECF6",
           "showlakes": true,
           "showland": true,
           "subunitcolor": "white"
          },
          "hoverlabel": {
           "align": "left"
          },
          "hovermode": "closest",
          "mapbox": {
           "style": "light"
          },
          "paper_bgcolor": "white",
          "plot_bgcolor": "#E5ECF6",
          "polar": {
           "angularaxis": {
            "gridcolor": "white",
            "linecolor": "white",
            "ticks": ""
           },
           "bgcolor": "#E5ECF6",
           "radialaxis": {
            "gridcolor": "white",
            "linecolor": "white",
            "ticks": ""
           }
          },
          "scene": {
           "xaxis": {
            "backgroundcolor": "#E5ECF6",
            "gridcolor": "white",
            "gridwidth": 2,
            "linecolor": "white",
            "showbackground": true,
            "ticks": "",
            "zerolinecolor": "white"
           },
           "yaxis": {
            "backgroundcolor": "#E5ECF6",
            "gridcolor": "white",
            "gridwidth": 2,
            "linecolor": "white",
            "showbackground": true,
            "ticks": "",
            "zerolinecolor": "white"
           },
           "zaxis": {
            "backgroundcolor": "#E5ECF6",
            "gridcolor": "white",
            "gridwidth": 2,
            "linecolor": "white",
            "showbackground": true,
            "ticks": "",
            "zerolinecolor": "white"
           }
          },
          "shapedefaults": {
           "line": {
            "color": "#2a3f5f"
           }
          },
          "ternary": {
           "aaxis": {
            "gridcolor": "white",
            "linecolor": "white",
            "ticks": ""
           },
           "baxis": {
            "gridcolor": "white",
            "linecolor": "white",
            "ticks": ""
           },
           "bgcolor": "#E5ECF6",
           "caxis": {
            "gridcolor": "white",
            "linecolor": "white",
            "ticks": ""
           }
          },
          "title": {
           "x": 0.05
          },
          "xaxis": {
           "automargin": true,
           "gridcolor": "white",
           "linecolor": "white",
           "ticks": "",
           "title": {
            "standoff": 15
           },
           "zerolinecolor": "white",
           "zerolinewidth": 2
          },
          "yaxis": {
           "automargin": true,
           "gridcolor": "white",
           "linecolor": "white",
           "ticks": "",
           "title": {
            "standoff": 15
           },
           "zerolinecolor": "white",
           "zerolinewidth": 2
          }
         }
        }
       }
      }
     },
     "metadata": {},
     "output_type": "display_data"
    }
   ],
   "source": [
    "# data to dict, dict to sankey\n",
    "link = dict(source = sourcetest, target = targettest, value = value)\n",
    "node = dict(label = labels, pad=15, thickness=5)\n",
    "data = go.Sankey(link = link, node=node)\n",
    "# plot\n",
    "fig = go.Figure(data)\n",
    "fig.show()\n",
    "fig.write_html('graph0-2.html')"
   ]
  },
  {
   "cell_type": "code",
   "execution_count": 18,
   "metadata": {},
   "outputs": [
    {
     "data": {
      "application/vnd.plotly.v1+json": {
       "config": {
        "plotlyServerURL": "https://plot.ly"
       },
       "data": [
        {
         "link": {
          "source": [
           0,
           0,
           0,
           0,
           0,
           0,
           0,
           0,
           1,
           1,
           1,
           1,
           2,
           2,
           3,
           3,
           4,
           4,
           5,
           5,
           6,
           6,
           7,
           7,
           7,
           8,
           8,
           8,
           13,
           15,
           23,
           23,
           23,
           23,
           23,
           23,
           26,
           26,
           26,
           26,
           26,
           26,
           24,
           24,
           27,
           27,
           17,
           18,
           19,
           19,
           20,
           20,
           21,
           22,
           9,
           9,
           9,
           9,
           9,
           9,
           9,
           10,
           10,
           10,
           10,
           10,
           10,
           10,
           14,
           16,
           11,
           11,
           11,
           11,
           12,
           12,
           25,
           25,
           25,
           25,
           25,
           28,
           28,
           28,
           28,
           28
          ],
          "target": [
           1,
           2,
           3,
           4,
           5,
           6,
           7,
           8,
           9,
           10,
           11,
           12,
           13,
           14,
           15,
           16,
           17,
           18,
           19,
           20,
           21,
           22,
           23,
           24,
           25,
           26,
           27,
           28,
           13,
           15,
           31,
           32,
           33,
           34,
           35,
           36,
           37,
           38,
           39,
           40,
           41,
           42,
           43,
           33,
           45,
           39,
           47,
           48,
           49,
           50,
           51,
           52,
           53,
           54,
           55,
           56,
           57,
           58,
           59,
           60,
           61,
           62,
           63,
           64,
           65,
           66,
           67,
           68,
           14,
           16,
           71,
           72,
           73,
           74,
           73,
           74,
           77,
           78,
           79,
           80,
           81,
           82,
           83,
           84,
           85,
           86
          ],
          "value": [
           0.07941664532724545,
           0.008548065780393485,
           0.00836215963623159,
           0.007429735434579121,
           0.11531316866533857,
           0.003598766798464719,
           0.38422025754872985,
           0.39311120080901724,
           0.02457650291011836,
           0.021714126986193755,
           0.032536468709174794,
           0.0005895467217585419,
           0.003960451903838058,
           0.004587613876555427,
           0.0037528446533537617,
           0.0046093149828778275,
           0.0035770656921423187,
           0.0038526697424368025,
           0.057506485013939346,
           0.05780668365139922,
           0.0017382586164242653,
           0.0018605081820404538,
           0.20036052771303614,
           0.00895604657925461,
           0.17490368325643907,
           0.20462262499475556,
           0.009459512245934297,
           0.17902906356832737,
           0.003960451903838058,
           0.0037528446533537617,
           0.07137493869437464,
           0.00523792369601669,
           0.020830891958872066,
           0.026949880571578207,
           0.030147900273289265,
           0.04581899251890528,
           0.07132864300088686,
           0.005122907832507968,
           0.023571741687391224,
           0.025343275333509836,
           0.034545991154629065,
           0.044710065985830626,
           0.007521603451343949,
           0.0014344431279106609,
           0.007760315620890352,
           0.0016991966250439448,
           0.0035770656921423187,
           0.0038526697424368025,
           0.052086272024814494,
           0.005420212989124852,
           0.051994404008049666,
           0.005812279643349551,
           0.0017382586164242653,
           0.0018605081820404538,
           0.001561756285002076,
           0.0008485132572058524,
           0.010853446642043145,
           0.0013989979875840737,
           0.006321532271715212,
           0.0027683377965275337,
           0.0008239186700404654,
           0.001265897868806685,
           0.001026462329049535,
           0.008124894207106678,
           0.001485802412873675,
           0.007036945410143676,
           0.002115857866434031,
           0.0006582668917794762,
           0.004587613876555427,
           0.0046093149828778275,
           0.0017491091695854655,
           0.0019530995690160283,
           0.015109756962076594,
           0.013724503008496706,
           0.0003211763735715247,
           0.00026837034818701723,
           0.06294695236896511,
           0.00877520402656794,
           0.041867944427806926,
           0.010363001639156898,
           0.050950580793942206,
           0.06637717390832584,
           0.009524615564901499,
           0.04145200655662759,
           0.00991378873828321,
           0.051761478800189234,
           0.0006047374961842221,
           0.043227880424010684,
           0.0191143344487702,
           0.0006271619727173691,
           0.045563642834511704,
           0.020186369101096772,
           0.003960451903838058,
           0.0037528446533537617,
           0.0005150395900516342,
           0.0025824316523656377,
           0.00026258338650104383,
           0.0009895704483014545,
           0.0031719783741241793,
           0.0005656755048039016,
           0.002693107294609879,
           0.0002495627227076036,
           0.0010691411714835888,
           0.0031828289272853795,
           0.001561756285002076,
           0.001265897868806685,
           0.009092763549085732,
           0.04299350847572876,
           0.00967435319852606,
           0.042320050809523606,
           0.0008485132572058524,
           0.001026462329049535,
           0.00298028526827631,
           0.001869188624569414,
           0.003925730133722217,
           0.0032457621356203406,
           0.001987821339131869,
           0.004291032090149289,
           0.010853446642043145,
           0.008124894207106678,
           0.009462405726777284,
           0.018979787589571317,
           0.006882144185043886,
           0.010666817127670501,
           0.004560125808547053,
           0.020823658256764598,
           0.008397604776558175,
           0.01996501781660829,
           0.006679600526034817,
           0.012675616202914025,
           0.004491405638526119,
           0.019119398040245424,
           0.0017491091695854655,
           0.0019530995690160283,
           0.0016955797739902113,
           0.002451501644220489,
           0.00028356112261269744,
           0.023597059644767358,
           0.013840242242216175,
           0.0018286798927676,
           0.0023849515848317947,
           0.00028356112261269744,
           0.023830708222838535,
           0.013124105733576965,
           0.00523792369601669,
           0.005122907832507968,
           0.011227429040999177,
           0.0006032907557627288,
           0.0036002135388862127,
           0.010282707545764016,
           0.0006575435215687295,
           0.0030526222893509777,
           0.002267765610690833,
           0.0013100234516622324,
           0.001030802550314015,
           0.0006532033003042496,
           0.005101206726185568,
           0.002577368060890411,
           0.001247813613538018,
           0.0010402063630537218,
           0.0007204767299036905,
           0.0043279239708973695,
           0.0014344431279106609,
           0.01637999505214776,
           0.0028739498472965487,
           0.0015769470594277563,
           0.0016991966250439448,
           0.01918160787836964,
           0.00273433939662244,
           0.001655794412399144,
           0.0017382586164242653,
           0.0018605081820404538,
           0.004367709332488437,
           0.0031032582041032454,
           0.005836150860304192,
           0.011785147473484865,
           0.0018576147011974671,
           0.004947128871296526,
           0.0032370816930913805,
           0.00527264546613253,
           0.010245815665015937,
           0.0016406036379734638,
           0.0013989979875840737,
           0.001485802412873675,
           0.006321532271715212,
           0.007036945410143676,
           0.005374640665847812,
           0.007738614514567953,
           0.005323281380884798,
           0.006239791437900838,
           0.005471572274087866,
           0.009823367461939876,
           0.008085832215726358,
           0.0047554357654486555,
           0.006869846891461194,
           0.00501150882005298,
           0.005420212989124852,
           0.005812279643349551,
           0.0005678456154361416,
           0.02300895966343031,
           0.024190946587790377,
           0.0031828289272853795,
           0.0004701906369853402,
           0.022240740499617336,
           0.02632199522865009,
           0.0027285524349364666,
           0.00114943526487647,
           0.0004629569348778734,
           0.0011559455967731901,
           0.0008499599976273457,
           0.00020833062069504303,
           0.001057567248111642,
           0.0008239186700404654,
           0.0006582668917794762,
           0.010150330797197375,
           0.009081189625713786,
           0.013696291570277585,
           0.012891180525716535,
           0.009775625028030597,
           0.00892349491977101,
           0.013961768437621615,
           0.012049177600407402,
           0.004587613876555427,
           0.0046093149828778275,
           0.0035770656921423187,
           0.0038526697424368025
          ]
         },
         "node": {
          "label": [
           "ICV",
           "CSF",
           "Diencephalon_L",
           "Diencephalon_R",
           "Mesencephalon",
           "Metencephalon",
           "Myelencephalon",
           "Telencephalon_L",
           "Telencephalon_R",
           "Sulcus_L",
           "Sulcus_R",
           "Ventricle",
           "Ventricle ",
           "BasalForebrain_L",
           "Thalamus_L",
           "BasalForebrain_R",
           "Thalamus_R",
           "Mesencephalon_L",
           "Mesencephalon_R",
           "Metencephalon_L",
           "Metencephalon_R",
           "Myelencephalon_L",
           "Myelencephalon_R",
           "CerebralCortex_L",
           "CerebralNucli_L",
           "WhiteMatter_L",
           "CerebralCortex_R",
           "CerebralNucli_R",
           "WhiteMatter_R",
           "BasalForebrain_L",
           "BasalForebrain_R",
           "Frontal_L",
           "Insula_L",
           "Limbic_L",
           "Occipital_L",
           "Parietal_L",
           "Temporal_L",
           "Frontal_R",
           "Insula_R",
           "Limbic_R",
           "Occipital_R",
           "Parietal_R",
           "Temporal_R",
           "BasalGang_L",
           "Limbic_L",
           "BasalGang_R",
           "Limbic_R",
           "midbrain_L",
           "midbrain_R",
           "Cerebellum_L",
           "Pons_L",
           "Cerebellum_R",
           "Pons_R",
           "Medulla_L",
           "Medulla_R",
           "CentralSul_L",
           "CinguSul_L",
           "FrontSul_L",
           "OcciptSul_L",
           "ParietSul_L",
           "SylvianFissureExt_L",
           "TempSul_L",
           "CentralSul_R",
           "CinguSul_R",
           "FrontSul_R",
           "OcciptSul_R",
           "ParietSul_R",
           "SylvianFissureExt_R",
           "TempSul_R",
           "Thalamus_L",
           "Thalamus_R",
           "III_ventricle",
           "IV_ventricle",
           "LateralVentricle_L",
           "LateralVentricle_R",
           "LateralVentricle_L",
           "LateralVentricle_R",
           "AnteriorWM_L",
           "CorpusCallosum_L",
           "InferiorWM_L",
           "LimbicWM_L",
           "PosteriorWM_L",
           "AnteriorWM_R",
           "CorpusCallosum_R",
           "InferiorWM_R",
           "LimbicWM_R",
           "PosteriorWM_R",
           "PVA_anterior_L",
           "PeripheralFrontalWM_L",
           "ant_DPWM_L",
           "PVA_anterior_R",
           "PeripheralFrontalWM_R",
           "ant_DPWM_R",
           "BasalForebrain_L",
           "BasalForebrain_R",
           "BasalForebrain_L",
           "Caud_L",
           "Caudate_tail_L",
           "GP_L",
           "Put_L",
           "BasalForebrain_R",
           "Caud_R",
           "Caudate_tail_R",
           "GP_R",
           "Put_R",
           "CentralSul_L",
           "CentralSul_R",
           "CerebellumWM_L",
           "Cerebellum_L",
           "CerebellumWM_R",
           "Cerebellum_R",
           "CinguSul_L",
           "CinguSul_R",
           "BCC_L",
           "GCC_L",
           "SCC_L",
           "BCC_R",
           "GCC_R",
           "SCC_R",
           "FrontSul_L",
           "FrontSul_R",
           "IFG_L",
           "MFG_L",
           "OG_L",
           "PrCG_L",
           "RG_L",
           "SFG_L",
           "IFG_R",
           "MFG_R",
           "OG_R",
           "PrCG_R",
           "RG_R",
           "SFG_R",
           "III_ventricle",
           "IV_ventricle",
           "ALIC_L",
           "PLIC_L",
           "PVA_posterior_L",
           "PeripheralTemporalWM_L",
           "inf_DPWM_L",
           "ALIC_R",
           "PLIC_R",
           "PVA_posterior_R",
           "PeripheralTemporalWM_R",
           "inf_DPWM_R",
           "Insula_L",
           "Insula_R",
           "AnteriorLateralVentricle_L",
           "InferiorLateralVentricle_L",
           "PosteriorLateralVentricle_L",
           "AnteriorLateralVentricle_R",
           "InferiorLateralVentricle_R",
           "PosteriorLateralVentricle_R",
           "CGC_L",
           "CGH_L",
           "Fx/ST_L",
           "Fx_L",
           "PeripheralCingulateWM_L",
           "CGC_R",
           "CGH_R",
           "Fx/ST_R",
           "Fx_R",
           "PeripheralCingulateWM_R",
           "Amyg_L",
           "Cingulate_L",
           "Hippo_L",
           "Limbic_L",
           "Amyg_R",
           "Cingulate_R",
           "Hippo_R",
           "Limbic_R",
           "Medulla_L",
           "Medulla_R",
           "Cu_L",
           "IOG_L",
           "LG_L",
           "MOG_L",
           "SOG_L",
           "Cu_R",
           "IOG_R",
           "LG_R",
           "MOG_R",
           "SOG_R",
           "OcciptSul_L",
           "OcciptSul_R",
           "ParietSul_L",
           "ParietSul_R",
           "AG_L",
           "PoCG_L",
           "PrCu_L",
           "SMG_L",
           "SPG_L",
           "AG_R",
           "PoCG_R",
           "PrCu_R",
           "SMG_R",
           "SPG_R",
           "Pons_L",
           "Pons_R",
           "PVA_posterior_L",
           "PeripheralOccipitalWM_L",
           "PeripheralParietalWM_L",
           "post_DPWM_L",
           "PVA_posterior_R",
           "PeripheralOccipitalWM_R",
           "PeripheralParietalWM_R",
           "post_DPWM_R",
           "SylFrontSul_L",
           "SylParieSul_L",
           "SylTempSul_L",
           "SylFrontSul_R",
           "SylParieSul_R",
           "SylTempSul_R",
           "TempSul_L",
           "TempSul_R",
           "FuG_L",
           "ITG_L",
           "MTG_L",
           "STG_L",
           "FuG_R",
           "ITG_R",
           "MTG_R",
           "STG_R",
           "Thalamus_L",
           "Thalamus_R",
           "midbrain_L",
           "midbrain_R"
          ],
          "pad": 2,
          "thickness": 5
         },
         "type": "sankey"
        }
       ],
       "layout": {
        "template": {
         "data": {
          "bar": [
           {
            "error_x": {
             "color": "#2a3f5f"
            },
            "error_y": {
             "color": "#2a3f5f"
            },
            "marker": {
             "line": {
              "color": "#E5ECF6",
              "width": 0.5
             },
             "pattern": {
              "fillmode": "overlay",
              "size": 10,
              "solidity": 0.2
             }
            },
            "type": "bar"
           }
          ],
          "barpolar": [
           {
            "marker": {
             "line": {
              "color": "#E5ECF6",
              "width": 0.5
             },
             "pattern": {
              "fillmode": "overlay",
              "size": 10,
              "solidity": 0.2
             }
            },
            "type": "barpolar"
           }
          ],
          "carpet": [
           {
            "aaxis": {
             "endlinecolor": "#2a3f5f",
             "gridcolor": "white",
             "linecolor": "white",
             "minorgridcolor": "white",
             "startlinecolor": "#2a3f5f"
            },
            "baxis": {
             "endlinecolor": "#2a3f5f",
             "gridcolor": "white",
             "linecolor": "white",
             "minorgridcolor": "white",
             "startlinecolor": "#2a3f5f"
            },
            "type": "carpet"
           }
          ],
          "choropleth": [
           {
            "colorbar": {
             "outlinewidth": 0,
             "ticks": ""
            },
            "type": "choropleth"
           }
          ],
          "contour": [
           {
            "colorbar": {
             "outlinewidth": 0,
             "ticks": ""
            },
            "colorscale": [
             [
              0,
              "#0d0887"
             ],
             [
              0.1111111111111111,
              "#46039f"
             ],
             [
              0.2222222222222222,
              "#7201a8"
             ],
             [
              0.3333333333333333,
              "#9c179e"
             ],
             [
              0.4444444444444444,
              "#bd3786"
             ],
             [
              0.5555555555555556,
              "#d8576b"
             ],
             [
              0.6666666666666666,
              "#ed7953"
             ],
             [
              0.7777777777777778,
              "#fb9f3a"
             ],
             [
              0.8888888888888888,
              "#fdca26"
             ],
             [
              1,
              "#f0f921"
             ]
            ],
            "type": "contour"
           }
          ],
          "contourcarpet": [
           {
            "colorbar": {
             "outlinewidth": 0,
             "ticks": ""
            },
            "type": "contourcarpet"
           }
          ],
          "heatmap": [
           {
            "colorbar": {
             "outlinewidth": 0,
             "ticks": ""
            },
            "colorscale": [
             [
              0,
              "#0d0887"
             ],
             [
              0.1111111111111111,
              "#46039f"
             ],
             [
              0.2222222222222222,
              "#7201a8"
             ],
             [
              0.3333333333333333,
              "#9c179e"
             ],
             [
              0.4444444444444444,
              "#bd3786"
             ],
             [
              0.5555555555555556,
              "#d8576b"
             ],
             [
              0.6666666666666666,
              "#ed7953"
             ],
             [
              0.7777777777777778,
              "#fb9f3a"
             ],
             [
              0.8888888888888888,
              "#fdca26"
             ],
             [
              1,
              "#f0f921"
             ]
            ],
            "type": "heatmap"
           }
          ],
          "heatmapgl": [
           {
            "colorbar": {
             "outlinewidth": 0,
             "ticks": ""
            },
            "colorscale": [
             [
              0,
              "#0d0887"
             ],
             [
              0.1111111111111111,
              "#46039f"
             ],
             [
              0.2222222222222222,
              "#7201a8"
             ],
             [
              0.3333333333333333,
              "#9c179e"
             ],
             [
              0.4444444444444444,
              "#bd3786"
             ],
             [
              0.5555555555555556,
              "#d8576b"
             ],
             [
              0.6666666666666666,
              "#ed7953"
             ],
             [
              0.7777777777777778,
              "#fb9f3a"
             ],
             [
              0.8888888888888888,
              "#fdca26"
             ],
             [
              1,
              "#f0f921"
             ]
            ],
            "type": "heatmapgl"
           }
          ],
          "histogram": [
           {
            "marker": {
             "pattern": {
              "fillmode": "overlay",
              "size": 10,
              "solidity": 0.2
             }
            },
            "type": "histogram"
           }
          ],
          "histogram2d": [
           {
            "colorbar": {
             "outlinewidth": 0,
             "ticks": ""
            },
            "colorscale": [
             [
              0,
              "#0d0887"
             ],
             [
              0.1111111111111111,
              "#46039f"
             ],
             [
              0.2222222222222222,
              "#7201a8"
             ],
             [
              0.3333333333333333,
              "#9c179e"
             ],
             [
              0.4444444444444444,
              "#bd3786"
             ],
             [
              0.5555555555555556,
              "#d8576b"
             ],
             [
              0.6666666666666666,
              "#ed7953"
             ],
             [
              0.7777777777777778,
              "#fb9f3a"
             ],
             [
              0.8888888888888888,
              "#fdca26"
             ],
             [
              1,
              "#f0f921"
             ]
            ],
            "type": "histogram2d"
           }
          ],
          "histogram2dcontour": [
           {
            "colorbar": {
             "outlinewidth": 0,
             "ticks": ""
            },
            "colorscale": [
             [
              0,
              "#0d0887"
             ],
             [
              0.1111111111111111,
              "#46039f"
             ],
             [
              0.2222222222222222,
              "#7201a8"
             ],
             [
              0.3333333333333333,
              "#9c179e"
             ],
             [
              0.4444444444444444,
              "#bd3786"
             ],
             [
              0.5555555555555556,
              "#d8576b"
             ],
             [
              0.6666666666666666,
              "#ed7953"
             ],
             [
              0.7777777777777778,
              "#fb9f3a"
             ],
             [
              0.8888888888888888,
              "#fdca26"
             ],
             [
              1,
              "#f0f921"
             ]
            ],
            "type": "histogram2dcontour"
           }
          ],
          "mesh3d": [
           {
            "colorbar": {
             "outlinewidth": 0,
             "ticks": ""
            },
            "type": "mesh3d"
           }
          ],
          "parcoords": [
           {
            "line": {
             "colorbar": {
              "outlinewidth": 0,
              "ticks": ""
             }
            },
            "type": "parcoords"
           }
          ],
          "pie": [
           {
            "automargin": true,
            "type": "pie"
           }
          ],
          "scatter": [
           {
            "fillpattern": {
             "fillmode": "overlay",
             "size": 10,
             "solidity": 0.2
            },
            "type": "scatter"
           }
          ],
          "scatter3d": [
           {
            "line": {
             "colorbar": {
              "outlinewidth": 0,
              "ticks": ""
             }
            },
            "marker": {
             "colorbar": {
              "outlinewidth": 0,
              "ticks": ""
             }
            },
            "type": "scatter3d"
           }
          ],
          "scattercarpet": [
           {
            "marker": {
             "colorbar": {
              "outlinewidth": 0,
              "ticks": ""
             }
            },
            "type": "scattercarpet"
           }
          ],
          "scattergeo": [
           {
            "marker": {
             "colorbar": {
              "outlinewidth": 0,
              "ticks": ""
             }
            },
            "type": "scattergeo"
           }
          ],
          "scattergl": [
           {
            "marker": {
             "colorbar": {
              "outlinewidth": 0,
              "ticks": ""
             }
            },
            "type": "scattergl"
           }
          ],
          "scattermapbox": [
           {
            "marker": {
             "colorbar": {
              "outlinewidth": 0,
              "ticks": ""
             }
            },
            "type": "scattermapbox"
           }
          ],
          "scatterpolar": [
           {
            "marker": {
             "colorbar": {
              "outlinewidth": 0,
              "ticks": ""
             }
            },
            "type": "scatterpolar"
           }
          ],
          "scatterpolargl": [
           {
            "marker": {
             "colorbar": {
              "outlinewidth": 0,
              "ticks": ""
             }
            },
            "type": "scatterpolargl"
           }
          ],
          "scatterternary": [
           {
            "marker": {
             "colorbar": {
              "outlinewidth": 0,
              "ticks": ""
             }
            },
            "type": "scatterternary"
           }
          ],
          "surface": [
           {
            "colorbar": {
             "outlinewidth": 0,
             "ticks": ""
            },
            "colorscale": [
             [
              0,
              "#0d0887"
             ],
             [
              0.1111111111111111,
              "#46039f"
             ],
             [
              0.2222222222222222,
              "#7201a8"
             ],
             [
              0.3333333333333333,
              "#9c179e"
             ],
             [
              0.4444444444444444,
              "#bd3786"
             ],
             [
              0.5555555555555556,
              "#d8576b"
             ],
             [
              0.6666666666666666,
              "#ed7953"
             ],
             [
              0.7777777777777778,
              "#fb9f3a"
             ],
             [
              0.8888888888888888,
              "#fdca26"
             ],
             [
              1,
              "#f0f921"
             ]
            ],
            "type": "surface"
           }
          ],
          "table": [
           {
            "cells": {
             "fill": {
              "color": "#EBF0F8"
             },
             "line": {
              "color": "white"
             }
            },
            "header": {
             "fill": {
              "color": "#C8D4E3"
             },
             "line": {
              "color": "white"
             }
            },
            "type": "table"
           }
          ]
         },
         "layout": {
          "annotationdefaults": {
           "arrowcolor": "#2a3f5f",
           "arrowhead": 0,
           "arrowwidth": 1
          },
          "autotypenumbers": "strict",
          "coloraxis": {
           "colorbar": {
            "outlinewidth": 0,
            "ticks": ""
           }
          },
          "colorscale": {
           "diverging": [
            [
             0,
             "#8e0152"
            ],
            [
             0.1,
             "#c51b7d"
            ],
            [
             0.2,
             "#de77ae"
            ],
            [
             0.3,
             "#f1b6da"
            ],
            [
             0.4,
             "#fde0ef"
            ],
            [
             0.5,
             "#f7f7f7"
            ],
            [
             0.6,
             "#e6f5d0"
            ],
            [
             0.7,
             "#b8e186"
            ],
            [
             0.8,
             "#7fbc41"
            ],
            [
             0.9,
             "#4d9221"
            ],
            [
             1,
             "#276419"
            ]
           ],
           "sequential": [
            [
             0,
             "#0d0887"
            ],
            [
             0.1111111111111111,
             "#46039f"
            ],
            [
             0.2222222222222222,
             "#7201a8"
            ],
            [
             0.3333333333333333,
             "#9c179e"
            ],
            [
             0.4444444444444444,
             "#bd3786"
            ],
            [
             0.5555555555555556,
             "#d8576b"
            ],
            [
             0.6666666666666666,
             "#ed7953"
            ],
            [
             0.7777777777777778,
             "#fb9f3a"
            ],
            [
             0.8888888888888888,
             "#fdca26"
            ],
            [
             1,
             "#f0f921"
            ]
           ],
           "sequentialminus": [
            [
             0,
             "#0d0887"
            ],
            [
             0.1111111111111111,
             "#46039f"
            ],
            [
             0.2222222222222222,
             "#7201a8"
            ],
            [
             0.3333333333333333,
             "#9c179e"
            ],
            [
             0.4444444444444444,
             "#bd3786"
            ],
            [
             0.5555555555555556,
             "#d8576b"
            ],
            [
             0.6666666666666666,
             "#ed7953"
            ],
            [
             0.7777777777777778,
             "#fb9f3a"
            ],
            [
             0.8888888888888888,
             "#fdca26"
            ],
            [
             1,
             "#f0f921"
            ]
           ]
          },
          "colorway": [
           "#636efa",
           "#EF553B",
           "#00cc96",
           "#ab63fa",
           "#FFA15A",
           "#19d3f3",
           "#FF6692",
           "#B6E880",
           "#FF97FF",
           "#FECB52"
          ],
          "font": {
           "color": "#2a3f5f"
          },
          "geo": {
           "bgcolor": "white",
           "lakecolor": "white",
           "landcolor": "#E5ECF6",
           "showlakes": true,
           "showland": true,
           "subunitcolor": "white"
          },
          "hoverlabel": {
           "align": "left"
          },
          "hovermode": "closest",
          "mapbox": {
           "style": "light"
          },
          "paper_bgcolor": "white",
          "plot_bgcolor": "#E5ECF6",
          "polar": {
           "angularaxis": {
            "gridcolor": "white",
            "linecolor": "white",
            "ticks": ""
           },
           "bgcolor": "#E5ECF6",
           "radialaxis": {
            "gridcolor": "white",
            "linecolor": "white",
            "ticks": ""
           }
          },
          "scene": {
           "xaxis": {
            "backgroundcolor": "#E5ECF6",
            "gridcolor": "white",
            "gridwidth": 2,
            "linecolor": "white",
            "showbackground": true,
            "ticks": "",
            "zerolinecolor": "white"
           },
           "yaxis": {
            "backgroundcolor": "#E5ECF6",
            "gridcolor": "white",
            "gridwidth": 2,
            "linecolor": "white",
            "showbackground": true,
            "ticks": "",
            "zerolinecolor": "white"
           },
           "zaxis": {
            "backgroundcolor": "#E5ECF6",
            "gridcolor": "white",
            "gridwidth": 2,
            "linecolor": "white",
            "showbackground": true,
            "ticks": "",
            "zerolinecolor": "white"
           }
          },
          "shapedefaults": {
           "line": {
            "color": "#2a3f5f"
           }
          },
          "ternary": {
           "aaxis": {
            "gridcolor": "white",
            "linecolor": "white",
            "ticks": ""
           },
           "baxis": {
            "gridcolor": "white",
            "linecolor": "white",
            "ticks": ""
           },
           "bgcolor": "#E5ECF6",
           "caxis": {
            "gridcolor": "white",
            "linecolor": "white",
            "ticks": ""
           }
          },
          "title": {
           "x": 0.05
          },
          "xaxis": {
           "automargin": true,
           "gridcolor": "white",
           "linecolor": "white",
           "ticks": "",
           "title": {
            "standoff": 15
           },
           "zerolinecolor": "white",
           "zerolinewidth": 2
          },
          "yaxis": {
           "automargin": true,
           "gridcolor": "white",
           "linecolor": "white",
           "ticks": "",
           "title": {
            "standoff": 15
           },
           "zerolinecolor": "white",
           "zerolinewidth": 2
          }
         }
        }
       }
      }
     },
     "metadata": {},
     "output_type": "display_data"
    }
   ],
   "source": [
    "\n",
    "\n",
    "for i in two_three['level2']:\n",
    "    level1_index = labels.index(i)\n",
    "    sourcetest.append(index_list[level1_index])\n",
    "\n",
    "\n",
    "\n",
    "for i in two_three['level3']:\n",
    "    level2_index = labels.index(i)\n",
    "    targettest.append(index_list[level2_index])\n",
    "\n",
    "\n",
    "# data to dict, dict to sankey\n",
    "link = dict(source = sourcetest, target = targettest, value = value)\n",
    "node = dict(label = labels, pad=2, thickness=5)\n",
    "data = go.Sankey(link = link, node=node)\n",
    "# plot\n",
    "fig = go.Figure(data)\n",
    "fig.show()\n",
    "fig.write_html('graph0-3.html')"
   ]
  },
  {
   "cell_type": "code",
   "execution_count": 19,
   "metadata": {},
   "outputs": [
    {
     "data": {
      "application/vnd.plotly.v1+json": {
       "config": {
        "plotlyServerURL": "https://plot.ly"
       },
       "data": [
        {
         "link": {
          "source": [
           0,
           0,
           0,
           0,
           0,
           0,
           0,
           0,
           1,
           1,
           1,
           1,
           2,
           2,
           3,
           3,
           4,
           4,
           5,
           5,
           6,
           6,
           7,
           7,
           7,
           8,
           8,
           8,
           13,
           15,
           23,
           23,
           23,
           23,
           23,
           23,
           26,
           26,
           26,
           26,
           26,
           26,
           24,
           24,
           27,
           27,
           17,
           18,
           19,
           19,
           20,
           20,
           21,
           22,
           9,
           9,
           9,
           9,
           9,
           9,
           9,
           10,
           10,
           10,
           10,
           10,
           10,
           10,
           14,
           16,
           11,
           11,
           11,
           11,
           12,
           12,
           25,
           25,
           25,
           25,
           25,
           28,
           28,
           28,
           28,
           28,
           77,
           77,
           77,
           82,
           82,
           82,
           13,
           15,
           43,
           43,
           43,
           43,
           43,
           45,
           45,
           45,
           45,
           45,
           55,
           62,
           49,
           49,
           51,
           51,
           56,
           63,
           78,
           78,
           78,
           83,
           83,
           83,
           57,
           64,
           31,
           31,
           31,
           31,
           31,
           31,
           37,
           37,
           37,
           37,
           37,
           37,
           71,
           72,
           79,
           79,
           79,
           79,
           79,
           84,
           84,
           84,
           84,
           84,
           32,
           38,
           73,
           73,
           73,
           74,
           74,
           74,
           80,
           80,
           80,
           80,
           80,
           85,
           85,
           85,
           85,
           85,
           33,
           33,
           33,
           33,
           39,
           39,
           39,
           39,
           53,
           54,
           34,
           34,
           34,
           34,
           34,
           40,
           40,
           40,
           40,
           40,
           58,
           65,
           59,
           66,
           35,
           35,
           35,
           35,
           35,
           41,
           41,
           41,
           41,
           41,
           50,
           52,
           81,
           81,
           81,
           81,
           86,
           86,
           86,
           86,
           60,
           60,
           60,
           67,
           67,
           67,
           61,
           68,
           36,
           36,
           36,
           36,
           42,
           42,
           42,
           42,
           14,
           16,
           47,
           48
          ],
          "target": [
           1,
           2,
           3,
           4,
           5,
           6,
           7,
           8,
           9,
           10,
           11,
           12,
           13,
           14,
           15,
           16,
           17,
           18,
           19,
           20,
           21,
           22,
           23,
           24,
           25,
           26,
           27,
           28,
           13,
           15,
           31,
           32,
           33,
           34,
           35,
           36,
           37,
           38,
           39,
           40,
           41,
           42,
           43,
           33,
           45,
           39,
           47,
           48,
           49,
           50,
           51,
           52,
           53,
           54,
           55,
           56,
           57,
           58,
           59,
           60,
           61,
           62,
           63,
           64,
           65,
           66,
           67,
           68,
           14,
           16,
           71,
           72,
           73,
           74,
           73,
           74,
           77,
           78,
           79,
           80,
           81,
           82,
           83,
           84,
           85,
           86,
           87,
           88,
           89,
           90,
           91,
           92,
           13,
           15,
           13,
           96,
           97,
           98,
           99,
           15,
           101,
           102,
           103,
           104,
           55,
           62,
           107,
           49,
           109,
           51,
           56,
           63,
           113,
           114,
           115,
           116,
           117,
           118,
           57,
           64,
           121,
           122,
           123,
           124,
           125,
           126,
           127,
           128,
           129,
           130,
           131,
           132,
           71,
           72,
           135,
           136,
           137,
           138,
           139,
           140,
           141,
           142,
           143,
           144,
           32,
           38,
           147,
           148,
           149,
           150,
           151,
           152,
           153,
           154,
           155,
           156,
           157,
           158,
           159,
           160,
           161,
           162,
           163,
           164,
           165,
           33,
           167,
           168,
           169,
           39,
           53,
           54,
           173,
           174,
           175,
           176,
           177,
           178,
           179,
           180,
           181,
           182,
           58,
           65,
           59,
           66,
           187,
           188,
           189,
           190,
           191,
           192,
           193,
           194,
           195,
           196,
           50,
           52,
           137,
           200,
           201,
           202,
           142,
           204,
           205,
           206,
           207,
           208,
           209,
           210,
           211,
           212,
           61,
           68,
           215,
           216,
           217,
           218,
           219,
           220,
           221,
           222,
           14,
           16,
           47,
           48
          ],
          "value": [
           0.07941664532724545,
           0.008548065780393485,
           0.00836215963623159,
           0.007429735434579121,
           0.11531316866533857,
           0.003598766798464719,
           0.38422025754872985,
           0.39311120080901724,
           0.02457650291011836,
           0.021714126986193755,
           0.032536468709174794,
           0.0005895467217585419,
           0.003960451903838058,
           0.004587613876555427,
           0.0037528446533537617,
           0.0046093149828778275,
           0.0035770656921423187,
           0.0038526697424368025,
           0.057506485013939346,
           0.05780668365139922,
           0.0017382586164242653,
           0.0018605081820404538,
           0.20036052771303614,
           0.00895604657925461,
           0.17490368325643907,
           0.20462262499475556,
           0.009459512245934297,
           0.17902906356832737,
           0.003960451903838058,
           0.0037528446533537617,
           0.07137493869437464,
           0.00523792369601669,
           0.020830891958872066,
           0.026949880571578207,
           0.030147900273289265,
           0.04581899251890528,
           0.07132864300088686,
           0.005122907832507968,
           0.023571741687391224,
           0.025343275333509836,
           0.034545991154629065,
           0.044710065985830626,
           0.007521603451343949,
           0.0014344431279106609,
           0.007760315620890352,
           0.0016991966250439448,
           0.0035770656921423187,
           0.0038526697424368025,
           0.052086272024814494,
           0.005420212989124852,
           0.051994404008049666,
           0.005812279643349551,
           0.0017382586164242653,
           0.0018605081820404538,
           0.001561756285002076,
           0.0008485132572058524,
           0.010853446642043145,
           0.0013989979875840737,
           0.006321532271715212,
           0.0027683377965275337,
           0.0008239186700404654,
           0.001265897868806685,
           0.001026462329049535,
           0.008124894207106678,
           0.001485802412873675,
           0.007036945410143676,
           0.002115857866434031,
           0.0006582668917794762,
           0.004587613876555427,
           0.0046093149828778275,
           0.0017491091695854655,
           0.0019530995690160283,
           0.015109756962076594,
           0.013724503008496706,
           0.0003211763735715247,
           0.00026837034818701723,
           0.06294695236896511,
           0.00877520402656794,
           0.041867944427806926,
           0.010363001639156898,
           0.050950580793942206,
           0.06637717390832584,
           0.009524615564901499,
           0.04145200655662759,
           0.00991378873828321,
           0.051761478800189234,
           0.0006047374961842221,
           0.043227880424010684,
           0.0191143344487702,
           0.0006271619727173691,
           0.045563642834511704,
           0.020186369101096772,
           0.003960451903838058,
           0.0037528446533537617,
           0.0005150395900516342,
           0.0025824316523656377,
           0.00026258338650104383,
           0.0009895704483014545,
           0.0031719783741241793,
           0.0005656755048039016,
           0.002693107294609879,
           0.0002495627227076036,
           0.0010691411714835888,
           0.0031828289272853795,
           0.001561756285002076,
           0.001265897868806685,
           0.009092763549085732,
           0.04299350847572876,
           0.00967435319852606,
           0.042320050809523606,
           0.0008485132572058524,
           0.001026462329049535,
           0.00298028526827631,
           0.001869188624569414,
           0.003925730133722217,
           0.0032457621356203406,
           0.001987821339131869,
           0.004291032090149289,
           0.010853446642043145,
           0.008124894207106678,
           0.009462405726777284,
           0.018979787589571317,
           0.006882144185043886,
           0.010666817127670501,
           0.004560125808547053,
           0.020823658256764598,
           0.008397604776558175,
           0.01996501781660829,
           0.006679600526034817,
           0.012675616202914025,
           0.004491405638526119,
           0.019119398040245424,
           0.0017491091695854655,
           0.0019530995690160283,
           0.0016955797739902113,
           0.002451501644220489,
           0.00028356112261269744,
           0.023597059644767358,
           0.013840242242216175,
           0.0018286798927676,
           0.0023849515848317947,
           0.00028356112261269744,
           0.023830708222838535,
           0.013124105733576965,
           0.00523792369601669,
           0.005122907832507968,
           0.011227429040999177,
           0.0006032907557627288,
           0.0036002135388862127,
           0.010282707545764016,
           0.0006575435215687295,
           0.0030526222893509777,
           0.002267765610690833,
           0.0013100234516622324,
           0.001030802550314015,
           0.0006532033003042496,
           0.005101206726185568,
           0.002577368060890411,
           0.001247813613538018,
           0.0010402063630537218,
           0.0007204767299036905,
           0.0043279239708973695,
           0.0014344431279106609,
           0.01637999505214776,
           0.0028739498472965487,
           0.0015769470594277563,
           0.0016991966250439448,
           0.01918160787836964,
           0.00273433939662244,
           0.001655794412399144,
           0.0017382586164242653,
           0.0018605081820404538,
           0.004367709332488437,
           0.0031032582041032454,
           0.005836150860304192,
           0.011785147473484865,
           0.0018576147011974671,
           0.004947128871296526,
           0.0032370816930913805,
           0.00527264546613253,
           0.010245815665015937,
           0.0016406036379734638,
           0.0013989979875840737,
           0.001485802412873675,
           0.006321532271715212,
           0.007036945410143676,
           0.005374640665847812,
           0.007738614514567953,
           0.005323281380884798,
           0.006239791437900838,
           0.005471572274087866,
           0.009823367461939876,
           0.008085832215726358,
           0.0047554357654486555,
           0.006869846891461194,
           0.00501150882005298,
           0.005420212989124852,
           0.005812279643349551,
           0.0005678456154361416,
           0.02300895966343031,
           0.024190946587790377,
           0.0031828289272853795,
           0.0004701906369853402,
           0.022240740499617336,
           0.02632199522865009,
           0.0027285524349364666,
           0.00114943526487647,
           0.0004629569348778734,
           0.0011559455967731901,
           0.0008499599976273457,
           0.00020833062069504303,
           0.001057567248111642,
           0.0008239186700404654,
           0.0006582668917794762,
           0.010150330797197375,
           0.009081189625713786,
           0.013696291570277585,
           0.012891180525716535,
           0.009775625028030597,
           0.00892349491977101,
           0.013961768437621615,
           0.012049177600407402,
           0.004587613876555427,
           0.0046093149828778275,
           0.0035770656921423187,
           0.0038526697424368025
          ]
         },
         "node": {
          "label": [
           "ICV",
           "CSF",
           "Diencephalon_L",
           "Diencephalon_R",
           "Mesencephalon",
           "Metencephalon",
           "Myelencephalon",
           "Telencephalon_L",
           "Telencephalon_R",
           "Sulcus_L",
           "Sulcus_R",
           "Ventricle",
           "Ventricle ",
           "BasalForebrain_L",
           "Thalamus_L",
           "BasalForebrain_R",
           "Thalamus_R",
           "Mesencephalon_L",
           "Mesencephalon_R",
           "Metencephalon_L",
           "Metencephalon_R",
           "Myelencephalon_L",
           "Myelencephalon_R",
           "CerebralCortex_L",
           "CerebralNucli_L",
           "WhiteMatter_L",
           "CerebralCortex_R",
           "CerebralNucli_R",
           "WhiteMatter_R",
           "BasalForebrain_L",
           "BasalForebrain_R",
           "Frontal_L",
           "Insula_L",
           "Limbic_L",
           "Occipital_L",
           "Parietal_L",
           "Temporal_L",
           "Frontal_R",
           "Insula_R",
           "Limbic_R",
           "Occipital_R",
           "Parietal_R",
           "Temporal_R",
           "BasalGang_L",
           "Limbic_L",
           "BasalGang_R",
           "Limbic_R",
           "midbrain_L",
           "midbrain_R",
           "Cerebellum_L",
           "Pons_L",
           "Cerebellum_R",
           "Pons_R",
           "Medulla_L",
           "Medulla_R",
           "CentralSul_L",
           "CinguSul_L",
           "FrontSul_L",
           "OcciptSul_L",
           "ParietSul_L",
           "SylvianFissureExt_L",
           "TempSul_L",
           "CentralSul_R",
           "CinguSul_R",
           "FrontSul_R",
           "OcciptSul_R",
           "ParietSul_R",
           "SylvianFissureExt_R",
           "TempSul_R",
           "Thalamus_L",
           "Thalamus_R",
           "III_ventricle",
           "IV_ventricle",
           "LateralVentricle_L",
           "LateralVentricle_R",
           "LateralVentricle_L",
           "LateralVentricle_R",
           "AnteriorWM_L",
           "CorpusCallosum_L",
           "InferiorWM_L",
           "LimbicWM_L",
           "PosteriorWM_L",
           "AnteriorWM_R",
           "CorpusCallosum_R",
           "InferiorWM_R",
           "LimbicWM_R",
           "PosteriorWM_R",
           "PVA_anterior_L",
           "PeripheralFrontalWM_L",
           "ant_DPWM_L",
           "PVA_anterior_R",
           "PeripheralFrontalWM_R",
           "ant_DPWM_R",
           "BasalForebrain_L",
           "BasalForebrain_R",
           "BasalForebrain_L",
           "Caud_L",
           "Caudate_tail_L",
           "GP_L",
           "Put_L",
           "BasalForebrain_R",
           "Caud_R",
           "Caudate_tail_R",
           "GP_R",
           "Put_R",
           "CentralSul_L",
           "CentralSul_R",
           "CerebellumWM_L",
           "Cerebellum_L",
           "CerebellumWM_R",
           "Cerebellum_R",
           "CinguSul_L",
           "CinguSul_R",
           "BCC_L",
           "GCC_L",
           "SCC_L",
           "BCC_R",
           "GCC_R",
           "SCC_R",
           "FrontSul_L",
           "FrontSul_R",
           "IFG_L",
           "MFG_L",
           "OG_L",
           "PrCG_L",
           "RG_L",
           "SFG_L",
           "IFG_R",
           "MFG_R",
           "OG_R",
           "PrCG_R",
           "RG_R",
           "SFG_R",
           "III_ventricle",
           "IV_ventricle",
           "ALIC_L",
           "PLIC_L",
           "PVA_posterior_L",
           "PeripheralTemporalWM_L",
           "inf_DPWM_L",
           "ALIC_R",
           "PLIC_R",
           "PVA_posterior_R",
           "PeripheralTemporalWM_R",
           "inf_DPWM_R",
           "Insula_L",
           "Insula_R",
           "AnteriorLateralVentricle_L",
           "InferiorLateralVentricle_L",
           "PosteriorLateralVentricle_L",
           "AnteriorLateralVentricle_R",
           "InferiorLateralVentricle_R",
           "PosteriorLateralVentricle_R",
           "CGC_L",
           "CGH_L",
           "Fx/ST_L",
           "Fx_L",
           "PeripheralCingulateWM_L",
           "CGC_R",
           "CGH_R",
           "Fx/ST_R",
           "Fx_R",
           "PeripheralCingulateWM_R",
           "Amyg_L",
           "Cingulate_L",
           "Hippo_L",
           "Limbic_L",
           "Amyg_R",
           "Cingulate_R",
           "Hippo_R",
           "Limbic_R",
           "Medulla_L",
           "Medulla_R",
           "Cu_L",
           "IOG_L",
           "LG_L",
           "MOG_L",
           "SOG_L",
           "Cu_R",
           "IOG_R",
           "LG_R",
           "MOG_R",
           "SOG_R",
           "OcciptSul_L",
           "OcciptSul_R",
           "ParietSul_L",
           "ParietSul_R",
           "AG_L",
           "PoCG_L",
           "PrCu_L",
           "SMG_L",
           "SPG_L",
           "AG_R",
           "PoCG_R",
           "PrCu_R",
           "SMG_R",
           "SPG_R",
           "Pons_L",
           "Pons_R",
           "PVA_posterior_L",
           "PeripheralOccipitalWM_L",
           "PeripheralParietalWM_L",
           "post_DPWM_L",
           "PVA_posterior_R",
           "PeripheralOccipitalWM_R",
           "PeripheralParietalWM_R",
           "post_DPWM_R",
           "SylFrontSul_L",
           "SylParieSul_L",
           "SylTempSul_L",
           "SylFrontSul_R",
           "SylParieSul_R",
           "SylTempSul_R",
           "TempSul_L",
           "TempSul_R",
           "FuG_L",
           "ITG_L",
           "MTG_L",
           "STG_L",
           "FuG_R",
           "ITG_R",
           "MTG_R",
           "STG_R",
           "Thalamus_L",
           "Thalamus_R",
           "midbrain_L",
           "midbrain_R"
          ],
          "pad": 2,
          "thickness": 5
         },
         "type": "sankey"
        }
       ],
       "layout": {
        "template": {
         "data": {
          "bar": [
           {
            "error_x": {
             "color": "#2a3f5f"
            },
            "error_y": {
             "color": "#2a3f5f"
            },
            "marker": {
             "line": {
              "color": "#E5ECF6",
              "width": 0.5
             },
             "pattern": {
              "fillmode": "overlay",
              "size": 10,
              "solidity": 0.2
             }
            },
            "type": "bar"
           }
          ],
          "barpolar": [
           {
            "marker": {
             "line": {
              "color": "#E5ECF6",
              "width": 0.5
             },
             "pattern": {
              "fillmode": "overlay",
              "size": 10,
              "solidity": 0.2
             }
            },
            "type": "barpolar"
           }
          ],
          "carpet": [
           {
            "aaxis": {
             "endlinecolor": "#2a3f5f",
             "gridcolor": "white",
             "linecolor": "white",
             "minorgridcolor": "white",
             "startlinecolor": "#2a3f5f"
            },
            "baxis": {
             "endlinecolor": "#2a3f5f",
             "gridcolor": "white",
             "linecolor": "white",
             "minorgridcolor": "white",
             "startlinecolor": "#2a3f5f"
            },
            "type": "carpet"
           }
          ],
          "choropleth": [
           {
            "colorbar": {
             "outlinewidth": 0,
             "ticks": ""
            },
            "type": "choropleth"
           }
          ],
          "contour": [
           {
            "colorbar": {
             "outlinewidth": 0,
             "ticks": ""
            },
            "colorscale": [
             [
              0,
              "#0d0887"
             ],
             [
              0.1111111111111111,
              "#46039f"
             ],
             [
              0.2222222222222222,
              "#7201a8"
             ],
             [
              0.3333333333333333,
              "#9c179e"
             ],
             [
              0.4444444444444444,
              "#bd3786"
             ],
             [
              0.5555555555555556,
              "#d8576b"
             ],
             [
              0.6666666666666666,
              "#ed7953"
             ],
             [
              0.7777777777777778,
              "#fb9f3a"
             ],
             [
              0.8888888888888888,
              "#fdca26"
             ],
             [
              1,
              "#f0f921"
             ]
            ],
            "type": "contour"
           }
          ],
          "contourcarpet": [
           {
            "colorbar": {
             "outlinewidth": 0,
             "ticks": ""
            },
            "type": "contourcarpet"
           }
          ],
          "heatmap": [
           {
            "colorbar": {
             "outlinewidth": 0,
             "ticks": ""
            },
            "colorscale": [
             [
              0,
              "#0d0887"
             ],
             [
              0.1111111111111111,
              "#46039f"
             ],
             [
              0.2222222222222222,
              "#7201a8"
             ],
             [
              0.3333333333333333,
              "#9c179e"
             ],
             [
              0.4444444444444444,
              "#bd3786"
             ],
             [
              0.5555555555555556,
              "#d8576b"
             ],
             [
              0.6666666666666666,
              "#ed7953"
             ],
             [
              0.7777777777777778,
              "#fb9f3a"
             ],
             [
              0.8888888888888888,
              "#fdca26"
             ],
             [
              1,
              "#f0f921"
             ]
            ],
            "type": "heatmap"
           }
          ],
          "heatmapgl": [
           {
            "colorbar": {
             "outlinewidth": 0,
             "ticks": ""
            },
            "colorscale": [
             [
              0,
              "#0d0887"
             ],
             [
              0.1111111111111111,
              "#46039f"
             ],
             [
              0.2222222222222222,
              "#7201a8"
             ],
             [
              0.3333333333333333,
              "#9c179e"
             ],
             [
              0.4444444444444444,
              "#bd3786"
             ],
             [
              0.5555555555555556,
              "#d8576b"
             ],
             [
              0.6666666666666666,
              "#ed7953"
             ],
             [
              0.7777777777777778,
              "#fb9f3a"
             ],
             [
              0.8888888888888888,
              "#fdca26"
             ],
             [
              1,
              "#f0f921"
             ]
            ],
            "type": "heatmapgl"
           }
          ],
          "histogram": [
           {
            "marker": {
             "pattern": {
              "fillmode": "overlay",
              "size": 10,
              "solidity": 0.2
             }
            },
            "type": "histogram"
           }
          ],
          "histogram2d": [
           {
            "colorbar": {
             "outlinewidth": 0,
             "ticks": ""
            },
            "colorscale": [
             [
              0,
              "#0d0887"
             ],
             [
              0.1111111111111111,
              "#46039f"
             ],
             [
              0.2222222222222222,
              "#7201a8"
             ],
             [
              0.3333333333333333,
              "#9c179e"
             ],
             [
              0.4444444444444444,
              "#bd3786"
             ],
             [
              0.5555555555555556,
              "#d8576b"
             ],
             [
              0.6666666666666666,
              "#ed7953"
             ],
             [
              0.7777777777777778,
              "#fb9f3a"
             ],
             [
              0.8888888888888888,
              "#fdca26"
             ],
             [
              1,
              "#f0f921"
             ]
            ],
            "type": "histogram2d"
           }
          ],
          "histogram2dcontour": [
           {
            "colorbar": {
             "outlinewidth": 0,
             "ticks": ""
            },
            "colorscale": [
             [
              0,
              "#0d0887"
             ],
             [
              0.1111111111111111,
              "#46039f"
             ],
             [
              0.2222222222222222,
              "#7201a8"
             ],
             [
              0.3333333333333333,
              "#9c179e"
             ],
             [
              0.4444444444444444,
              "#bd3786"
             ],
             [
              0.5555555555555556,
              "#d8576b"
             ],
             [
              0.6666666666666666,
              "#ed7953"
             ],
             [
              0.7777777777777778,
              "#fb9f3a"
             ],
             [
              0.8888888888888888,
              "#fdca26"
             ],
             [
              1,
              "#f0f921"
             ]
            ],
            "type": "histogram2dcontour"
           }
          ],
          "mesh3d": [
           {
            "colorbar": {
             "outlinewidth": 0,
             "ticks": ""
            },
            "type": "mesh3d"
           }
          ],
          "parcoords": [
           {
            "line": {
             "colorbar": {
              "outlinewidth": 0,
              "ticks": ""
             }
            },
            "type": "parcoords"
           }
          ],
          "pie": [
           {
            "automargin": true,
            "type": "pie"
           }
          ],
          "scatter": [
           {
            "fillpattern": {
             "fillmode": "overlay",
             "size": 10,
             "solidity": 0.2
            },
            "type": "scatter"
           }
          ],
          "scatter3d": [
           {
            "line": {
             "colorbar": {
              "outlinewidth": 0,
              "ticks": ""
             }
            },
            "marker": {
             "colorbar": {
              "outlinewidth": 0,
              "ticks": ""
             }
            },
            "type": "scatter3d"
           }
          ],
          "scattercarpet": [
           {
            "marker": {
             "colorbar": {
              "outlinewidth": 0,
              "ticks": ""
             }
            },
            "type": "scattercarpet"
           }
          ],
          "scattergeo": [
           {
            "marker": {
             "colorbar": {
              "outlinewidth": 0,
              "ticks": ""
             }
            },
            "type": "scattergeo"
           }
          ],
          "scattergl": [
           {
            "marker": {
             "colorbar": {
              "outlinewidth": 0,
              "ticks": ""
             }
            },
            "type": "scattergl"
           }
          ],
          "scattermapbox": [
           {
            "marker": {
             "colorbar": {
              "outlinewidth": 0,
              "ticks": ""
             }
            },
            "type": "scattermapbox"
           }
          ],
          "scatterpolar": [
           {
            "marker": {
             "colorbar": {
              "outlinewidth": 0,
              "ticks": ""
             }
            },
            "type": "scatterpolar"
           }
          ],
          "scatterpolargl": [
           {
            "marker": {
             "colorbar": {
              "outlinewidth": 0,
              "ticks": ""
             }
            },
            "type": "scatterpolargl"
           }
          ],
          "scatterternary": [
           {
            "marker": {
             "colorbar": {
              "outlinewidth": 0,
              "ticks": ""
             }
            },
            "type": "scatterternary"
           }
          ],
          "surface": [
           {
            "colorbar": {
             "outlinewidth": 0,
             "ticks": ""
            },
            "colorscale": [
             [
              0,
              "#0d0887"
             ],
             [
              0.1111111111111111,
              "#46039f"
             ],
             [
              0.2222222222222222,
              "#7201a8"
             ],
             [
              0.3333333333333333,
              "#9c179e"
             ],
             [
              0.4444444444444444,
              "#bd3786"
             ],
             [
              0.5555555555555556,
              "#d8576b"
             ],
             [
              0.6666666666666666,
              "#ed7953"
             ],
             [
              0.7777777777777778,
              "#fb9f3a"
             ],
             [
              0.8888888888888888,
              "#fdca26"
             ],
             [
              1,
              "#f0f921"
             ]
            ],
            "type": "surface"
           }
          ],
          "table": [
           {
            "cells": {
             "fill": {
              "color": "#EBF0F8"
             },
             "line": {
              "color": "white"
             }
            },
            "header": {
             "fill": {
              "color": "#C8D4E3"
             },
             "line": {
              "color": "white"
             }
            },
            "type": "table"
           }
          ]
         },
         "layout": {
          "annotationdefaults": {
           "arrowcolor": "#2a3f5f",
           "arrowhead": 0,
           "arrowwidth": 1
          },
          "autotypenumbers": "strict",
          "coloraxis": {
           "colorbar": {
            "outlinewidth": 0,
            "ticks": ""
           }
          },
          "colorscale": {
           "diverging": [
            [
             0,
             "#8e0152"
            ],
            [
             0.1,
             "#c51b7d"
            ],
            [
             0.2,
             "#de77ae"
            ],
            [
             0.3,
             "#f1b6da"
            ],
            [
             0.4,
             "#fde0ef"
            ],
            [
             0.5,
             "#f7f7f7"
            ],
            [
             0.6,
             "#e6f5d0"
            ],
            [
             0.7,
             "#b8e186"
            ],
            [
             0.8,
             "#7fbc41"
            ],
            [
             0.9,
             "#4d9221"
            ],
            [
             1,
             "#276419"
            ]
           ],
           "sequential": [
            [
             0,
             "#0d0887"
            ],
            [
             0.1111111111111111,
             "#46039f"
            ],
            [
             0.2222222222222222,
             "#7201a8"
            ],
            [
             0.3333333333333333,
             "#9c179e"
            ],
            [
             0.4444444444444444,
             "#bd3786"
            ],
            [
             0.5555555555555556,
             "#d8576b"
            ],
            [
             0.6666666666666666,
             "#ed7953"
            ],
            [
             0.7777777777777778,
             "#fb9f3a"
            ],
            [
             0.8888888888888888,
             "#fdca26"
            ],
            [
             1,
             "#f0f921"
            ]
           ],
           "sequentialminus": [
            [
             0,
             "#0d0887"
            ],
            [
             0.1111111111111111,
             "#46039f"
            ],
            [
             0.2222222222222222,
             "#7201a8"
            ],
            [
             0.3333333333333333,
             "#9c179e"
            ],
            [
             0.4444444444444444,
             "#bd3786"
            ],
            [
             0.5555555555555556,
             "#d8576b"
            ],
            [
             0.6666666666666666,
             "#ed7953"
            ],
            [
             0.7777777777777778,
             "#fb9f3a"
            ],
            [
             0.8888888888888888,
             "#fdca26"
            ],
            [
             1,
             "#f0f921"
            ]
           ]
          },
          "colorway": [
           "#636efa",
           "#EF553B",
           "#00cc96",
           "#ab63fa",
           "#FFA15A",
           "#19d3f3",
           "#FF6692",
           "#B6E880",
           "#FF97FF",
           "#FECB52"
          ],
          "font": {
           "color": "#2a3f5f"
          },
          "geo": {
           "bgcolor": "white",
           "lakecolor": "white",
           "landcolor": "#E5ECF6",
           "showlakes": true,
           "showland": true,
           "subunitcolor": "white"
          },
          "hoverlabel": {
           "align": "left"
          },
          "hovermode": "closest",
          "mapbox": {
           "style": "light"
          },
          "paper_bgcolor": "white",
          "plot_bgcolor": "#E5ECF6",
          "polar": {
           "angularaxis": {
            "gridcolor": "white",
            "linecolor": "white",
            "ticks": ""
           },
           "bgcolor": "#E5ECF6",
           "radialaxis": {
            "gridcolor": "white",
            "linecolor": "white",
            "ticks": ""
           }
          },
          "scene": {
           "xaxis": {
            "backgroundcolor": "#E5ECF6",
            "gridcolor": "white",
            "gridwidth": 2,
            "linecolor": "white",
            "showbackground": true,
            "ticks": "",
            "zerolinecolor": "white"
           },
           "yaxis": {
            "backgroundcolor": "#E5ECF6",
            "gridcolor": "white",
            "gridwidth": 2,
            "linecolor": "white",
            "showbackground": true,
            "ticks": "",
            "zerolinecolor": "white"
           },
           "zaxis": {
            "backgroundcolor": "#E5ECF6",
            "gridcolor": "white",
            "gridwidth": 2,
            "linecolor": "white",
            "showbackground": true,
            "ticks": "",
            "zerolinecolor": "white"
           }
          },
          "shapedefaults": {
           "line": {
            "color": "#2a3f5f"
           }
          },
          "ternary": {
           "aaxis": {
            "gridcolor": "white",
            "linecolor": "white",
            "ticks": ""
           },
           "baxis": {
            "gridcolor": "white",
            "linecolor": "white",
            "ticks": ""
           },
           "bgcolor": "#E5ECF6",
           "caxis": {
            "gridcolor": "white",
            "linecolor": "white",
            "ticks": ""
           }
          },
          "title": {
           "x": 0.05
          },
          "xaxis": {
           "automargin": true,
           "gridcolor": "white",
           "linecolor": "white",
           "ticks": "",
           "title": {
            "standoff": 15
           },
           "zerolinecolor": "white",
           "zerolinewidth": 2
          },
          "yaxis": {
           "automargin": true,
           "gridcolor": "white",
           "linecolor": "white",
           "ticks": "",
           "title": {
            "standoff": 15
           },
           "zerolinecolor": "white",
           "zerolinewidth": 2
          }
         }
        }
       }
      }
     },
     "metadata": {},
     "output_type": "display_data"
    }
   ],
   "source": [
    "for i in three_four['level3']:\n",
    "    level1_index = labels.index(i)\n",
    "    sourcetest.append(index_list[level1_index])\n",
    "\n",
    "for i in three_four['level4']:\n",
    "    level2_index = labels.index(i)\n",
    "    targettest.append(index_list[level2_index])\n",
    "\n",
    "# data to dict, dict to sankey\n",
    "link = dict(source = sourcetest, target = targettest, value = value)\n",
    "node = dict(label = labels, pad=2, thickness=5)\n",
    "data = go.Sankey(link = link, node=node)\n",
    "# plot\n",
    "fig = go.Figure(data)\n",
    "fig.show()\n",
    "fig.write_html('graph0-4')"
   ]
  },
  {
   "attachments": {},
   "cell_type": "markdown",
   "metadata": {},
   "source": [
    "Create the opioid sqlite database from https://smart-stats.github.io/ds4bio_book/book/_build/html/sqlite.html. However, only go to the step where the csv files are read into the database. Then exit sqlite and you should have a file opioid.db that has the data. Next, read the three tables into pandas dataframes and do the data wrangling from the sqlite chapter directly in pandas. Add the python code to your hw4.ipynb file.\n",
    "\n",
    "\n",
    "Create an interactive scatter plot of average number of opiod pills by year plot using plotly. See the example here. Don't do the intervals (little vertical lines), only the points. Add your plot to an html file with your repo for your Sanky diagram and host it publicly. Put a link to your hosted file in a markdown cell of your hw4.ipynb file. Note, an easy way to create a webpage with this graphic is to export an ipynb as an html file."
   ]
  },
  {
   "cell_type": "code",
   "execution_count": 71,
   "metadata": {},
   "outputs": [],
   "source": [
    "# Reading the data into pandas df\n",
    "\n",
    "import sqlite3\n",
    "import plotly.express as px\n",
    "\n",
    "connection = sqlite3.connect('opioid.db')"
   ]
  },
  {
   "cell_type": "code",
   "execution_count": 72,
   "metadata": {},
   "outputs": [],
   "source": [
    "opiods_annual = pd.read_sql(\"SELECT * from annual\", connection)\n",
    "opioids_land = pd.read_sql(\"SELECT * from land\", connection)\n",
    "opioids_population = pd.read_sql(\"SELECT * from population\", connection)\n"
   ]
  },
  {
   "cell_type": "code",
   "execution_count": 73,
   "metadata": {},
   "outputs": [],
   "source": [
    "connection.close()"
   ]
  },
  {
   "cell_type": "code",
   "execution_count": 74,
   "metadata": {},
   "outputs": [],
   "source": [
    "annual = opiods_annual.dropna()\n",
    "land = opioids_land.dropna()\n",
    "population = opioids_population.dropna()"
   ]
  },
  {
   "cell_type": "code",
   "execution_count": 75,
   "metadata": {},
   "outputs": [],
   "source": [
    "annual[\"DOSAGE_UNIT\"] = pd.to_numeric(annual[\"DOSAGE_UNIT\"], errors=\"coerce\").astype(\"float\")\n"
   ]
  },
  {
   "cell_type": "code",
   "execution_count": 76,
   "metadata": {},
   "outputs": [],
   "source": [
    "annual[\"Pills_in_millions\"] = annual[\"DOSAGE_UNIT\"] / 1000000\n"
   ]
  },
  {
   "cell_type": "code",
   "execution_count": 80,
   "metadata": {},
   "outputs": [],
   "source": [
    "annual_grouped = annual.groupby(\"year\")[\"Pills_in_millions\"].mean().reset_index()"
   ]
  },
  {
   "cell_type": "code",
   "execution_count": 81,
   "metadata": {},
   "outputs": [
    {
     "data": {
      "text/html": [
       "<div>\n",
       "<style scoped>\n",
       "    .dataframe tbody tr th:only-of-type {\n",
       "        vertical-align: middle;\n",
       "    }\n",
       "\n",
       "    .dataframe tbody tr th {\n",
       "        vertical-align: top;\n",
       "    }\n",
       "\n",
       "    .dataframe thead th {\n",
       "        text-align: right;\n",
       "    }\n",
       "</style>\n",
       "<table border=\"1\" class=\"dataframe\">\n",
       "  <thead>\n",
       "    <tr style=\"text-align: right;\">\n",
       "      <th></th>\n",
       "      <th>year</th>\n",
       "      <th>Pills_in_millions</th>\n",
       "    </tr>\n",
       "  </thead>\n",
       "  <tbody>\n",
       "    <tr>\n",
       "      <th>0</th>\n",
       "      <td>2006</td>\n",
       "      <td>2.645410</td>\n",
       "    </tr>\n",
       "    <tr>\n",
       "      <th>1</th>\n",
       "      <td>2007</td>\n",
       "      <td>2.992099</td>\n",
       "    </tr>\n",
       "    <tr>\n",
       "      <th>2</th>\n",
       "      <td>2008</td>\n",
       "      <td>3.252162</td>\n",
       "    </tr>\n",
       "    <tr>\n",
       "      <th>3</th>\n",
       "      <td>2009</td>\n",
       "      <td>3.526038</td>\n",
       "    </tr>\n",
       "    <tr>\n",
       "      <th>4</th>\n",
       "      <td>2010</td>\n",
       "      <td>3.783656</td>\n",
       "    </tr>\n",
       "    <tr>\n",
       "      <th>5</th>\n",
       "      <td>2011</td>\n",
       "      <td>4.035583</td>\n",
       "    </tr>\n",
       "    <tr>\n",
       "      <th>6</th>\n",
       "      <td>2012</td>\n",
       "      <td>3.993064</td>\n",
       "    </tr>\n",
       "    <tr>\n",
       "      <th>7</th>\n",
       "      <td>2013</td>\n",
       "      <td>3.861752</td>\n",
       "    </tr>\n",
       "    <tr>\n",
       "      <th>8</th>\n",
       "      <td>2014</td>\n",
       "      <td>3.768738</td>\n",
       "    </tr>\n",
       "  </tbody>\n",
       "</table>\n",
       "</div>"
      ],
      "text/plain": [
       "   year  Pills_in_millions\n",
       "0  2006           2.645410\n",
       "1  2007           2.992099\n",
       "2  2008           3.252162\n",
       "3  2009           3.526038\n",
       "4  2010           3.783656\n",
       "5  2011           4.035583\n",
       "6  2012           3.993064\n",
       "7  2013           3.861752\n",
       "8  2014           3.768738"
      ]
     },
     "execution_count": 81,
     "metadata": {},
     "output_type": "execute_result"
    }
   ],
   "source": [
    "annual_grouped"
   ]
  },
  {
   "cell_type": "code",
   "execution_count": 82,
   "metadata": {},
   "outputs": [
    {
     "data": {
      "application/vnd.plotly.v1+json": {
       "config": {
        "plotlyServerURL": "https://plot.ly"
       },
       "data": [
        {
         "hovertemplate": "year=%{x}<br>Pills_in_millions=%{y}<extra></extra>",
         "legendgroup": "",
         "marker": {
          "color": "#636efa",
          "symbol": "circle"
         },
         "mode": "markers",
         "name": "",
         "orientation": "v",
         "showlegend": false,
         "type": "scatter",
         "x": [
          "2006",
          "2007",
          "2008",
          "2009",
          "2010",
          "2011",
          "2012",
          "2013",
          "2014"
         ],
         "xaxis": "x",
         "y": [
          2.645409707290645,
          2.9920994515711046,
          3.252161727006173,
          3.5260380298390963,
          3.7836557365586336,
          4.03558296672916,
          3.993063895239638,
          3.8617517808752027,
          3.768738039222042
         ],
         "yaxis": "y"
        }
       ],
       "layout": {
        "legend": {
         "tracegroupgap": 0
        },
        "margin": {
         "t": 60
        },
        "template": {
         "data": {
          "bar": [
           {
            "error_x": {
             "color": "#2a3f5f"
            },
            "error_y": {
             "color": "#2a3f5f"
            },
            "marker": {
             "line": {
              "color": "#E5ECF6",
              "width": 0.5
             },
             "pattern": {
              "fillmode": "overlay",
              "size": 10,
              "solidity": 0.2
             }
            },
            "type": "bar"
           }
          ],
          "barpolar": [
           {
            "marker": {
             "line": {
              "color": "#E5ECF6",
              "width": 0.5
             },
             "pattern": {
              "fillmode": "overlay",
              "size": 10,
              "solidity": 0.2
             }
            },
            "type": "barpolar"
           }
          ],
          "carpet": [
           {
            "aaxis": {
             "endlinecolor": "#2a3f5f",
             "gridcolor": "white",
             "linecolor": "white",
             "minorgridcolor": "white",
             "startlinecolor": "#2a3f5f"
            },
            "baxis": {
             "endlinecolor": "#2a3f5f",
             "gridcolor": "white",
             "linecolor": "white",
             "minorgridcolor": "white",
             "startlinecolor": "#2a3f5f"
            },
            "type": "carpet"
           }
          ],
          "choropleth": [
           {
            "colorbar": {
             "outlinewidth": 0,
             "ticks": ""
            },
            "type": "choropleth"
           }
          ],
          "contour": [
           {
            "colorbar": {
             "outlinewidth": 0,
             "ticks": ""
            },
            "colorscale": [
             [
              0,
              "#0d0887"
             ],
             [
              0.1111111111111111,
              "#46039f"
             ],
             [
              0.2222222222222222,
              "#7201a8"
             ],
             [
              0.3333333333333333,
              "#9c179e"
             ],
             [
              0.4444444444444444,
              "#bd3786"
             ],
             [
              0.5555555555555556,
              "#d8576b"
             ],
             [
              0.6666666666666666,
              "#ed7953"
             ],
             [
              0.7777777777777778,
              "#fb9f3a"
             ],
             [
              0.8888888888888888,
              "#fdca26"
             ],
             [
              1,
              "#f0f921"
             ]
            ],
            "type": "contour"
           }
          ],
          "contourcarpet": [
           {
            "colorbar": {
             "outlinewidth": 0,
             "ticks": ""
            },
            "type": "contourcarpet"
           }
          ],
          "heatmap": [
           {
            "colorbar": {
             "outlinewidth": 0,
             "ticks": ""
            },
            "colorscale": [
             [
              0,
              "#0d0887"
             ],
             [
              0.1111111111111111,
              "#46039f"
             ],
             [
              0.2222222222222222,
              "#7201a8"
             ],
             [
              0.3333333333333333,
              "#9c179e"
             ],
             [
              0.4444444444444444,
              "#bd3786"
             ],
             [
              0.5555555555555556,
              "#d8576b"
             ],
             [
              0.6666666666666666,
              "#ed7953"
             ],
             [
              0.7777777777777778,
              "#fb9f3a"
             ],
             [
              0.8888888888888888,
              "#fdca26"
             ],
             [
              1,
              "#f0f921"
             ]
            ],
            "type": "heatmap"
           }
          ],
          "heatmapgl": [
           {
            "colorbar": {
             "outlinewidth": 0,
             "ticks": ""
            },
            "colorscale": [
             [
              0,
              "#0d0887"
             ],
             [
              0.1111111111111111,
              "#46039f"
             ],
             [
              0.2222222222222222,
              "#7201a8"
             ],
             [
              0.3333333333333333,
              "#9c179e"
             ],
             [
              0.4444444444444444,
              "#bd3786"
             ],
             [
              0.5555555555555556,
              "#d8576b"
             ],
             [
              0.6666666666666666,
              "#ed7953"
             ],
             [
              0.7777777777777778,
              "#fb9f3a"
             ],
             [
              0.8888888888888888,
              "#fdca26"
             ],
             [
              1,
              "#f0f921"
             ]
            ],
            "type": "heatmapgl"
           }
          ],
          "histogram": [
           {
            "marker": {
             "pattern": {
              "fillmode": "overlay",
              "size": 10,
              "solidity": 0.2
             }
            },
            "type": "histogram"
           }
          ],
          "histogram2d": [
           {
            "colorbar": {
             "outlinewidth": 0,
             "ticks": ""
            },
            "colorscale": [
             [
              0,
              "#0d0887"
             ],
             [
              0.1111111111111111,
              "#46039f"
             ],
             [
              0.2222222222222222,
              "#7201a8"
             ],
             [
              0.3333333333333333,
              "#9c179e"
             ],
             [
              0.4444444444444444,
              "#bd3786"
             ],
             [
              0.5555555555555556,
              "#d8576b"
             ],
             [
              0.6666666666666666,
              "#ed7953"
             ],
             [
              0.7777777777777778,
              "#fb9f3a"
             ],
             [
              0.8888888888888888,
              "#fdca26"
             ],
             [
              1,
              "#f0f921"
             ]
            ],
            "type": "histogram2d"
           }
          ],
          "histogram2dcontour": [
           {
            "colorbar": {
             "outlinewidth": 0,
             "ticks": ""
            },
            "colorscale": [
             [
              0,
              "#0d0887"
             ],
             [
              0.1111111111111111,
              "#46039f"
             ],
             [
              0.2222222222222222,
              "#7201a8"
             ],
             [
              0.3333333333333333,
              "#9c179e"
             ],
             [
              0.4444444444444444,
              "#bd3786"
             ],
             [
              0.5555555555555556,
              "#d8576b"
             ],
             [
              0.6666666666666666,
              "#ed7953"
             ],
             [
              0.7777777777777778,
              "#fb9f3a"
             ],
             [
              0.8888888888888888,
              "#fdca26"
             ],
             [
              1,
              "#f0f921"
             ]
            ],
            "type": "histogram2dcontour"
           }
          ],
          "mesh3d": [
           {
            "colorbar": {
             "outlinewidth": 0,
             "ticks": ""
            },
            "type": "mesh3d"
           }
          ],
          "parcoords": [
           {
            "line": {
             "colorbar": {
              "outlinewidth": 0,
              "ticks": ""
             }
            },
            "type": "parcoords"
           }
          ],
          "pie": [
           {
            "automargin": true,
            "type": "pie"
           }
          ],
          "scatter": [
           {
            "fillpattern": {
             "fillmode": "overlay",
             "size": 10,
             "solidity": 0.2
            },
            "type": "scatter"
           }
          ],
          "scatter3d": [
           {
            "line": {
             "colorbar": {
              "outlinewidth": 0,
              "ticks": ""
             }
            },
            "marker": {
             "colorbar": {
              "outlinewidth": 0,
              "ticks": ""
             }
            },
            "type": "scatter3d"
           }
          ],
          "scattercarpet": [
           {
            "marker": {
             "colorbar": {
              "outlinewidth": 0,
              "ticks": ""
             }
            },
            "type": "scattercarpet"
           }
          ],
          "scattergeo": [
           {
            "marker": {
             "colorbar": {
              "outlinewidth": 0,
              "ticks": ""
             }
            },
            "type": "scattergeo"
           }
          ],
          "scattergl": [
           {
            "marker": {
             "colorbar": {
              "outlinewidth": 0,
              "ticks": ""
             }
            },
            "type": "scattergl"
           }
          ],
          "scattermapbox": [
           {
            "marker": {
             "colorbar": {
              "outlinewidth": 0,
              "ticks": ""
             }
            },
            "type": "scattermapbox"
           }
          ],
          "scatterpolar": [
           {
            "marker": {
             "colorbar": {
              "outlinewidth": 0,
              "ticks": ""
             }
            },
            "type": "scatterpolar"
           }
          ],
          "scatterpolargl": [
           {
            "marker": {
             "colorbar": {
              "outlinewidth": 0,
              "ticks": ""
             }
            },
            "type": "scatterpolargl"
           }
          ],
          "scatterternary": [
           {
            "marker": {
             "colorbar": {
              "outlinewidth": 0,
              "ticks": ""
             }
            },
            "type": "scatterternary"
           }
          ],
          "surface": [
           {
            "colorbar": {
             "outlinewidth": 0,
             "ticks": ""
            },
            "colorscale": [
             [
              0,
              "#0d0887"
             ],
             [
              0.1111111111111111,
              "#46039f"
             ],
             [
              0.2222222222222222,
              "#7201a8"
             ],
             [
              0.3333333333333333,
              "#9c179e"
             ],
             [
              0.4444444444444444,
              "#bd3786"
             ],
             [
              0.5555555555555556,
              "#d8576b"
             ],
             [
              0.6666666666666666,
              "#ed7953"
             ],
             [
              0.7777777777777778,
              "#fb9f3a"
             ],
             [
              0.8888888888888888,
              "#fdca26"
             ],
             [
              1,
              "#f0f921"
             ]
            ],
            "type": "surface"
           }
          ],
          "table": [
           {
            "cells": {
             "fill": {
              "color": "#EBF0F8"
             },
             "line": {
              "color": "white"
             }
            },
            "header": {
             "fill": {
              "color": "#C8D4E3"
             },
             "line": {
              "color": "white"
             }
            },
            "type": "table"
           }
          ]
         },
         "layout": {
          "annotationdefaults": {
           "arrowcolor": "#2a3f5f",
           "arrowhead": 0,
           "arrowwidth": 1
          },
          "autotypenumbers": "strict",
          "coloraxis": {
           "colorbar": {
            "outlinewidth": 0,
            "ticks": ""
           }
          },
          "colorscale": {
           "diverging": [
            [
             0,
             "#8e0152"
            ],
            [
             0.1,
             "#c51b7d"
            ],
            [
             0.2,
             "#de77ae"
            ],
            [
             0.3,
             "#f1b6da"
            ],
            [
             0.4,
             "#fde0ef"
            ],
            [
             0.5,
             "#f7f7f7"
            ],
            [
             0.6,
             "#e6f5d0"
            ],
            [
             0.7,
             "#b8e186"
            ],
            [
             0.8,
             "#7fbc41"
            ],
            [
             0.9,
             "#4d9221"
            ],
            [
             1,
             "#276419"
            ]
           ],
           "sequential": [
            [
             0,
             "#0d0887"
            ],
            [
             0.1111111111111111,
             "#46039f"
            ],
            [
             0.2222222222222222,
             "#7201a8"
            ],
            [
             0.3333333333333333,
             "#9c179e"
            ],
            [
             0.4444444444444444,
             "#bd3786"
            ],
            [
             0.5555555555555556,
             "#d8576b"
            ],
            [
             0.6666666666666666,
             "#ed7953"
            ],
            [
             0.7777777777777778,
             "#fb9f3a"
            ],
            [
             0.8888888888888888,
             "#fdca26"
            ],
            [
             1,
             "#f0f921"
            ]
           ],
           "sequentialminus": [
            [
             0,
             "#0d0887"
            ],
            [
             0.1111111111111111,
             "#46039f"
            ],
            [
             0.2222222222222222,
             "#7201a8"
            ],
            [
             0.3333333333333333,
             "#9c179e"
            ],
            [
             0.4444444444444444,
             "#bd3786"
            ],
            [
             0.5555555555555556,
             "#d8576b"
            ],
            [
             0.6666666666666666,
             "#ed7953"
            ],
            [
             0.7777777777777778,
             "#fb9f3a"
            ],
            [
             0.8888888888888888,
             "#fdca26"
            ],
            [
             1,
             "#f0f921"
            ]
           ]
          },
          "colorway": [
           "#636efa",
           "#EF553B",
           "#00cc96",
           "#ab63fa",
           "#FFA15A",
           "#19d3f3",
           "#FF6692",
           "#B6E880",
           "#FF97FF",
           "#FECB52"
          ],
          "font": {
           "color": "#2a3f5f"
          },
          "geo": {
           "bgcolor": "white",
           "lakecolor": "white",
           "landcolor": "#E5ECF6",
           "showlakes": true,
           "showland": true,
           "subunitcolor": "white"
          },
          "hoverlabel": {
           "align": "left"
          },
          "hovermode": "closest",
          "mapbox": {
           "style": "light"
          },
          "paper_bgcolor": "white",
          "plot_bgcolor": "#E5ECF6",
          "polar": {
           "angularaxis": {
            "gridcolor": "white",
            "linecolor": "white",
            "ticks": ""
           },
           "bgcolor": "#E5ECF6",
           "radialaxis": {
            "gridcolor": "white",
            "linecolor": "white",
            "ticks": ""
           }
          },
          "scene": {
           "xaxis": {
            "backgroundcolor": "#E5ECF6",
            "gridcolor": "white",
            "gridwidth": 2,
            "linecolor": "white",
            "showbackground": true,
            "ticks": "",
            "zerolinecolor": "white"
           },
           "yaxis": {
            "backgroundcolor": "#E5ECF6",
            "gridcolor": "white",
            "gridwidth": 2,
            "linecolor": "white",
            "showbackground": true,
            "ticks": "",
            "zerolinecolor": "white"
           },
           "zaxis": {
            "backgroundcolor": "#E5ECF6",
            "gridcolor": "white",
            "gridwidth": 2,
            "linecolor": "white",
            "showbackground": true,
            "ticks": "",
            "zerolinecolor": "white"
           }
          },
          "shapedefaults": {
           "line": {
            "color": "#2a3f5f"
           }
          },
          "ternary": {
           "aaxis": {
            "gridcolor": "white",
            "linecolor": "white",
            "ticks": ""
           },
           "baxis": {
            "gridcolor": "white",
            "linecolor": "white",
            "ticks": ""
           },
           "bgcolor": "#E5ECF6",
           "caxis": {
            "gridcolor": "white",
            "linecolor": "white",
            "ticks": ""
           }
          },
          "title": {
           "x": 0.05
          },
          "xaxis": {
           "automargin": true,
           "gridcolor": "white",
           "linecolor": "white",
           "ticks": "",
           "title": {
            "standoff": 15
           },
           "zerolinecolor": "white",
           "zerolinewidth": 2
          },
          "yaxis": {
           "automargin": true,
           "gridcolor": "white",
           "linecolor": "white",
           "ticks": "",
           "title": {
            "standoff": 15
           },
           "zerolinecolor": "white",
           "zerolinewidth": 2
          }
         }
        },
        "title": {
         "text": "Average Number of Opioid Pills by Year"
        },
        "xaxis": {
         "anchor": "y",
         "domain": [
          0,
          1
         ],
         "title": {
          "text": "Year"
         }
        },
        "yaxis": {
         "anchor": "x",
         "domain": [
          0,
          1
         ],
         "title": {
          "text": "Average Dosage Units"
         }
        }
       }
      }
     },
     "metadata": {},
     "output_type": "display_data"
    }
   ],
   "source": [
    "fig = px.scatter(annual_grouped, x=\"year\", y=\"Pills_in_millions\")\n",
    "\n",
    "fig.update_layout(\n",
    "    title=\"Average Number of Opioid Pills by Year\",\n",
    "    xaxis_title=\"Year\",\n",
    "    yaxis_title=\"Average Dosage Units\",\n",
    ")\n",
    "\n",
    "fig.show()"
   ]
  }
 ],
 "metadata": {
  "kernelspec": {
   "display_name": "base",
   "language": "python",
   "name": "python3"
  },
  "language_info": {
   "codemirror_mode": {
    "name": "ipython",
    "version": 3
   },
   "file_extension": ".py",
   "mimetype": "text/x-python",
   "name": "python",
   "nbconvert_exporter": "python",
   "pygments_lexer": "ipython3",
   "version": "3.9.13"
  },
  "orig_nbformat": 4
 },
 "nbformat": 4,
 "nbformat_minor": 2
}
